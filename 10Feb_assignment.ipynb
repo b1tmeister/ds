{
 "cells": [
  {
   "cell_type": "code",
   "execution_count": null,
   "metadata": {},
   "outputs": [],
   "source": [
    "# Ans 1 \n",
    "\"\"\"\n",
    "The key function for working with files in Python is the open() function.\n",
    "\n",
    "**Methods to open a file**\n",
    "\"r\" - Read - Default value. Opens a file for reading, error if the file does not exist\n",
    "\"a\" - Append - Opens a file for appending, creates the file if it does not exist\n",
    "\"w\" - Write - Opens a file for writing also overwrite the content, creates the file if it does not exist\n",
    "\"x\" - Create - Creates the specified file, returns an error if the file exists\n",
    "\"t\" - Text - Default value. Text mode\n",
    "\"b\" - Binary - Binary mode for images or other files with binary data\n",
    "\"r+\" - Read + Write - Opens a file for reading and writing, creates the file if it does not exist\n",
    "\"\"\"\n",
    "\n",
    "f = open(\"test.txt\", \"r\")\n",
    "f = open(\"test.txt\", \"a\")\n",
    "f = open(\"test.txt\", \"w\")\n",
    "f = open(\"test.txt\", \"x\")\n",
    "f = open(\"test.txt\", \"at\")  # read in text mode\n",
    "f = open(\"test.txt\", \"ab\")  # read in binary mode\n",
    "f = open(\"test.txt\", \"r+\")  # open it for reading and writing"
   ]
  },
  {
   "cell_type": "code",
   "execution_count": null,
   "metadata": {},
   "outputs": [],
   "source": [
    "# Ans 2 \n",
    "\"\"\"\n",
    "The close() method closes an open file. we have to always close our files, \n",
    "because in some cases, due to buffering, changes made to a file may not show until you close the file.\n",
    "\"\"\""
   ]
  },
  {
   "cell_type": "code",
   "execution_count": 4,
   "metadata": {},
   "outputs": [
    {
     "name": "stdout",
     "output_type": "stream",
     "text": [
      "i want to become a data scientist\n"
     ]
    }
   ],
   "source": [
    "# Ans 3 \n",
    "\n",
    "with open(\"test.txt\", \"w\") as f:\n",
    "    f.write(\"i want to become a data scientist\")\n",
    "    f.close()\n",
    "with open(\"test.txt\", \"r\") as f:\n",
    "    print(f.read())"
   ]
  },
  {
   "cell_type": "code",
   "execution_count": null,
   "metadata": {},
   "outputs": [],
   "source": [
    "# Ans 4 \n",
    "# read() method returns the specified number of bytes from the file. Default is -1 which means the whole file.\n",
    "f = open(\"test.txt\", \"r\")\n",
    "print(f.read(33))\n",
    "\n",
    "# readline() method returns one line from the file also size can be passed as parameter .\n",
    "f = open(\"demofile.txt\", \"r\")\n",
    "print(f.readline())\n",
    "print(f.readline())\n",
    "\n",
    "# readlines() method returns a list containing each line in the file as a list item\n",
    "f = open(\"demofile.txt\", \"r\")\n",
    "print(f.readlines(33))"
   ]
  },
  {
   "cell_type": "code",
   "execution_count": null,
   "metadata": {},
   "outputs": [],
   "source": [
    "# Ans 5\n",
    "\"\"\"\n",
    "WITH statement simplifies the management of resources by taking care of tasks like opening and closing files, \n",
    "which ensures that the resources are always properly handled, even in the case of errors or exceptions\n",
    "\n",
    "there is no need to call file.close() when using WITH statement\n",
    "The WITH statement itself ensures proper acquisition and release of resources\n",
    "An exception during the file.write() can prevent the file from closing properly which may introduce several bugs in the code\n",
    "\"\"\" \n"
   ]
  },
  {
   "cell_type": "code",
   "execution_count": null,
   "metadata": {},
   "outputs": [],
   "source": [
    "# Ans 6 \n",
    "\"\"\"\n",
    "The write() function will write the content in the file without adding any extra characters\n",
    "example:\n",
    "\"\"\"\n",
    "file = open(\"employees.txt\", \"w\")\n",
    "for i in range(3):\n",
    "   name = input(\"Enter the name of the employee: \")\n",
    "   file.write(name)\n",
    "   file.write(\"\\n\")\n",
    "file.close()\n",
    "print(\"Data is written into the file.\")\n",
    "\n",
    "\"\"\"\n",
    "While the writelines() function can write a list content into the file \n",
    "example:\n",
    "\"\"\"\n",
    "file1 = open(\"employees.txt\", \"w\")\n",
    "emp_list = []\n",
    "for i in range(3):\n",
    "    name = input(\"Enter the name of the employee: \")\n",
    "    emp_list.append(name + '\\n')\n",
    "      \n",
    "file1.writelines(emp_list)\n",
    "file1.close()\n",
    "print(\"Data is written into the file.\") \n",
    "\n",
    "# Operations can be performed using with statement"
   ]
  }
 ],
 "metadata": {
  "kernelspec": {
   "display_name": "Python 3",
   "language": "python",
   "name": "python3"
  },
  "language_info": {
   "codemirror_mode": {
    "name": "ipython",
    "version": 3
   },
   "file_extension": ".py",
   "mimetype": "text/x-python",
   "name": "python",
   "nbconvert_exporter": "python",
   "pygments_lexer": "ipython3",
   "version": "3.10.6"
  },
  "orig_nbformat": 4,
  "vscode": {
   "interpreter": {
    "hash": "916dbcbb3f70747c44a77c7bcd40155683ae19c65e1c03b4aa3499c5328201f1"
   }
  }
 },
 "nbformat": 4,
 "nbformat_minor": 2
}
