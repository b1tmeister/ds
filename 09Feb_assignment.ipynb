{
 "cells": [
  {
   "cell_type": "code",
   "execution_count": 1,
   "metadata": {},
   "outputs": [],
   "source": [
    "# Ans 1 \n",
    "\n",
    "class Vehicle:\n",
    "\n",
    "    def __init__(self, name_of_vehicle, max_speed, average_of_vehicle) -> None:\n",
    "        self.name_of_vehicle = name_of_vehicle\n",
    "        self.max_speed = max_speed\n",
    "        self.average_of_vehicle = average_of_vehicle"
   ]
  },
  {
   "cell_type": "code",
   "execution_count": 7,
   "metadata": {},
   "outputs": [
    {
     "data": {
      "text/plain": [
       "'Vehicle name toyota supra and seating capacity 4'"
      ]
     },
     "execution_count": 7,
     "metadata": {},
     "output_type": "execute_result"
    }
   ],
   "source": [
    "# Ans 2  \n",
    "\n",
    "class Car(Vehicle):\n",
    "\n",
    "    def seating_capacity(self, seating_capacity):\n",
    "        return f'Vehicle name {self.name_of_vehicle} and seating capacity {seating_capacity}'\n",
    "\n",
    "cars = Car(\"toyota supra\", 250, 12)\n",
    "cars.seating_capacity(4)"
   ]
  },
  {
   "cell_type": "code",
   "execution_count": 8,
   "metadata": {},
   "outputs": [
    {
     "name": "stdout",
     "output_type": "stream",
     "text": [
      "Mammals can give direct birth.\n",
      "Winged animals can flap.\n"
     ]
    }
   ],
   "source": [
    "# Ans 3 \n",
    "\n",
    "\"\"\"\n",
    "When a class is derived from more than one base class it is called multiple Inheritance. \n",
    "The derived class inherits all the features of the base case\n",
    "\"\"\"\n",
    "\n",
    "\n",
    "class Mammal:\n",
    "    def mammal_info(self):\n",
    "        print(\"Mammals can give direct birth.\")\n",
    "\n",
    "class WingedAnimal:\n",
    "    def winged_animal_info(self):\n",
    "        print(\"Winged animals can flap.\")\n",
    "\n",
    "class Bat(Mammal, WingedAnimal):\n",
    "    pass\n",
    "\n",
    "# create an object of Bat class\n",
    "b1 = Bat()\n",
    "\n",
    "b1.mammal_info()\n",
    "b1.winged_animal_info()"
   ]
  },
  {
   "cell_type": "code",
   "execution_count": 9,
   "metadata": {},
   "outputs": [],
   "source": [
    "# Ans 4 \n",
    "\n",
    "\"\"\"\n",
    "getters and setters are methods used to access and modify the values of private class variables. \n",
    "Getters are used to retrieve the value of a variable, while setters are used to modify the value of a variable.\n",
    "\"\"\"\n",
    "\n",
    "class Account:\n",
    "\n",
    "    def __init__(self):\n",
    "        self.__balance = 0\n",
    "\n",
    "    def get_balance(self):\n",
    "        return self.__balance\n",
    "\n",
    "    def set_balance(self):\n",
    "        return self.__balance\n",
    "\n",
    "# the private variables 'balance' can be accessed only by getter and setter method defined in the class \n",
    "#  name get_balance and set_balance\n"
   ]
  },
  {
   "cell_type": "code",
   "execution_count": 11,
   "metadata": {},
   "outputs": [
    {
     "name": "stdout",
     "output_type": "stream",
     "text": [
      "Car has Horsepower.\n",
      "900 HP\n",
      "1600HP\n"
     ]
    }
   ],
   "source": [
    "# Ans 5 \n",
    "\n",
    "\"\"\"\n",
    "method overriding is a concept where a subclass defines a method that has the same name as a method in its superclass, thus \"overriding\" the method in the superclass. \n",
    "When a method is overridden in a subclass, the version of the method defined in the subclass is called instead of the version defined in the superclass.\n",
    "\"\"\"\n",
    "\n",
    "class Car:\n",
    "    def horsepower(self):\n",
    "        print(\"Car has Horsepower.\")\n",
    "\n",
    "class Muscle(Car):\n",
    "    def horsepower(self):\n",
    "        print(\"900 HP\")\n",
    "\n",
    "class Sports(Car):\n",
    "    def horsepower(self):\n",
    "        print(\"1600HP\")\n",
    "\n",
    "a = Car()\n",
    "a.horsepower()  \n",
    "\n",
    "m = Muscle()\n",
    "m.horsepower()\n",
    "  \n",
    "s = Sports()\n",
    "s.horsepower()\n"
   ]
  },
  {
   "cell_type": "code",
   "execution_count": null,
   "metadata": {},
   "outputs": [],
   "source": []
  }
 ],
 "metadata": {
  "kernelspec": {
   "display_name": "Python 3",
   "language": "python",
   "name": "python3"
  },
  "language_info": {
   "codemirror_mode": {
    "name": "ipython",
    "version": 3
   },
   "file_extension": ".py",
   "mimetype": "text/x-python",
   "name": "python",
   "nbconvert_exporter": "python",
   "pygments_lexer": "ipython3",
   "version": "3.10.6"
  },
  "orig_nbformat": 4,
  "vscode": {
   "interpreter": {
    "hash": "916dbcbb3f70747c44a77c7bcd40155683ae19c65e1c03b4aa3499c5328201f1"
   }
  }
 },
 "nbformat": 4,
 "nbformat_minor": 2
}
