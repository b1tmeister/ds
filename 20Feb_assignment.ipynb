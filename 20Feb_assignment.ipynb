{
 "cells": [
  {
   "cell_type": "code",
   "execution_count": null,
   "metadata": {},
   "outputs": [],
   "source": [
    "# Ans 1 \n",
    "\n",
    "# GET Method\n",
    "\"\"\"\n",
    "The Hypertext Transfer Protocol(HTTP) GET method is mainly used at the client side to send a request to a specified server to get certain data or resources. \n",
    "Using this method the server should only let us receive the data and not change its state. \n",
    "Hence it is only used to view something and not to change it. \n",
    "Get method is one of the most used HTTP method. The request parameter of the get method is appended to the URL. \n",
    "Get request is better for the data which does not need to be secure\n",
    "\"\"\"\n",
    "\n",
    "# POST Method\n",
    "\"\"\" \n",
    "Post method is mainly used at the client side to send data to a Specified server in order to create or rewrite a particular resource/data. \n",
    "This data sent to the server is stored in the request body of the HTTP request. \n",
    "Post method eventually leads to the creation of a new resource or updating an existing one. \n",
    "Due to this dynamic use, it is one of the most used HTTP methods. \n",
    "It is not one of the most secure methods because the data that is been sent is included in the body of the request and not in the URL. \n",
    "Post request is better for the data which needs to be secure \n",
    "\"\"\""
   ]
  },
  {
   "cell_type": "code",
   "execution_count": null,
   "metadata": {},
   "outputs": [],
   "source": [
    "# Ans 2 \n",
    "\n",
    "\"\"\" \n",
    "Request, in Flask, is an object that contains all the data sent from the Client to Server. \n",
    "This data can be recovered using the GET/POST Methods. \n",
    "POST is used when your application expects user input to be received by command or an HTTP request, while GET gets all the information before it even has a chance for submission.\n",
    "\"\"\"\n",
    "\n",
    "# There are various attributes associated with the request objects\n",
    "\n",
    "\"\"\"\n",
    "Args is used to initialize a Request constructor which you have given as a parameter of the class\n",
    "\n",
    "Files are used to refer to file data stored in the user’s cookies\n",
    "\n",
    "The method is used to create a new form element or an existing one via custom URL configuration.\n",
    "\"\"\"\n",
    "# We have to import the request module to use request in flask"
   ]
  },
  {
   "cell_type": "code",
   "execution_count": null,
   "metadata": {},
   "outputs": [],
   "source": [
    "# Ans 3 \n",
    "\n",
    "# some reasons why redirect() is commonly used in Flask:\n",
    "\n",
    "\"\"\"\n",
    "Handling invalid or incomplete requests :- \n",
    "In some cases, users may submit invalid or incomplete requests to a Flask application. \n",
    "These requests may be missing required data or may contain invalid data.\n",
    "redirect() can be used to redirect the user to an error page\n",
    "\n",
    "\n",
    "Implementing authentication and authorization: \n",
    "Many web applications require users to log in before they can access certain pages or functionality.\n",
    "redirect() can be used to redirect the user to the login page if they are not authenticated\n",
    "\n",
    "\n",
    "Implementing page flows: \n",
    "In some cases, web applications may require users to follow a specific sequence of pages in order to accomplish a task or achieve a goal\n",
    "redirect() can be used to move the user from one page to the next in this sequence\n",
    "\n",
    "\n",
    "Handling search queries: \n",
    "When users search for content on a website, it is common to redirect them to a results page that displays the relevant content\n",
    "redirect() can be used to redirect users from the search form to the search results page\n",
    "\n",
    "\n",
    "Handling URL aliases and redirects: \n",
    "It is common for websites to use URL aliases or redirects to point users to specific content or pages\n",
    "redirect() can be used to implement these aliases and redirects\n",
    "\"\"\""
   ]
  },
  {
   "cell_type": "code",
   "execution_count": null,
   "metadata": {},
   "outputs": [],
   "source": [
    "# Ans 4\n",
    "\n",
    "\"\"\"\n",
    "Templates are files that contain static data as well as placeholders for dynamic data\n",
    "A template is rendered with specific data to produce a final document \n",
    "Flask uses the Jinja template library to render templates. \n",
    "We use templates to render HTML which will display in the user's browser.\n",
    "\n",
    "\n",
    "\n",
    "render_template() is a Flask function from the flask. templating package. \n",
    "render_template() is used to generate output from a template file based on the Jinja2 engine that is found in the application's templates folder\n",
    "\"\"\""
   ]
  },
  {
   "cell_type": "code",
   "execution_count": null,
   "metadata": {},
   "outputs": [],
   "source": [
    "# Ans 5\n",
    "from flask import Flask, request, jsonify\n",
    "app = Flask(__name__)\n",
    "\n",
    "\n",
    "@app.route(\"/\")\n",
    "def home():\n",
    "    return \"Homepage\"\n",
    "\n",
    "\n",
    "@app.route(\"/post_create\", methods=['POST'])\n",
    "def add_post():\n",
    "    if request.method == 'POST':\n",
    "        data = request.json\n",
    "        message = \"Post Created Successfully\"\n",
    "    return {\"success\": True, \"message\":message, \"post\": data}\n",
    "\n",
    "if __name__ == \"__main__\":\n",
    "    app.run(host=\"0.0.0.0\")"
   ]
  },
  {
   "cell_type": "markdown",
   "metadata": {},
   "source": []
  },
  {
   "attachments": {},
   "cell_type": "markdown",
   "metadata": {},
   "source": [
    "![ans 5 image](https://raw.githubusercontent.com/b1tmeister/ds/master/images/Screenshot%20from%202023-02-22%2020-28-37.png)"
   ]
  },
  {
   "cell_type": "markdown",
   "metadata": {},
   "source": []
  }
 ],
 "metadata": {
  "kernelspec": {
   "display_name": "Python 3",
   "language": "python",
   "name": "python3"
  },
  "language_info": {
   "name": "python",
   "version": "3.10.6"
  },
  "orig_nbformat": 4,
  "vscode": {
   "interpreter": {
    "hash": "916dbcbb3f70747c44a77c7bcd40155683ae19c65e1c03b4aa3499c5328201f1"
   }
  }
 },
 "nbformat": 4,
 "nbformat_minor": 2
}
