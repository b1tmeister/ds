{
 "cells": [
  {
   "cell_type": "code",
   "execution_count": null,
   "metadata": {},
   "outputs": [],
   "source": [
    "# Ans 1 \n",
    "\"\"\" \n",
    "An API is a communication interface that allows two separate software components to share data. An API operates as a bridge between internal and external software operations, allowing for a fluid interchange of data that frequently passes undetected by the end-user. \n",
    "Simply said, an API acts as a virtual middleman, transferring data from one interface, such as a mobile app, to another\n",
    "\n",
    "The Google Maps API and Twitter API may be among the most widely used API examples, but most providers offer APIs that let developers write code that posts data to and retrieves data from the provider's site as well.\n",
    "\"\"\""
   ]
  },
  {
   "cell_type": "code",
   "execution_count": null,
   "metadata": {},
   "outputs": [],
   "source": [
    "# Ans 2 \n",
    "\"\"\" \n",
    "The main advantage of providing an API is that it allows your users to do more with your product or service (i.e. it increases the value of your product). This typically takes one of two forms -\n",
    "\n",
    "An integration :  An example of an integration is to push notifications from your product (such as CRM, Helpdesk) to a messaging tool such as Slack. In this way, if your customer uses Slack they can receive notifications without having to login directly to your system or check emails.\n",
    "New Functionality : In the early days of Twitter, some of the most popular Twitter clients were produced by third parties using the Twitter API. Twitter and its users benefited from the new functionality that was undertaken by other companies.\n",
    "\n",
    "The disadvantages to providing an API are,\n",
    "\n",
    "Cost :  Providing an API is expensive in terms of development time, ongoing maintenance, providing API documentation on your website and providing support to users of your API.\n",
    "Security exposure :  Adding an API adds another attack surface to your website.\n",
    "\n",
    "\"\"\""
   ]
  },
  {
   "cell_type": "code",
   "execution_count": null,
   "metadata": {},
   "outputs": [],
   "source": [
    "# Ans 3  \n",
    "\"\"\"\n",
    "A web API is an application programming interface for either a web server or a web browser. \n",
    "It is a web development concept, usually limited to a web application's client-side (including any web frameworks being used), \n",
    "\n",
    "Web API are used during the web developent and they used HTTP to transfer data between two systems\n",
    "API is a used to comminucate between two different systems wether it is a kernel of an operation system to application or any other software on local system using TCP\n",
    "\n",
    "\n",
    "\"\"\""
   ]
  },
  {
   "cell_type": "code",
   "execution_count": null,
   "metadata": {},
   "outputs": [],
   "source": [
    "# Ans 4\n",
    "\"\"\" \n",
    "REST Architecture\n",
    "When a request for data is sent to a REST API, it’s usually done through hypertext transfer protocol (commonly referred to as HTTP). \n",
    "Once a request is received, APIs designed for REST (called RESTful APIs or RESTful web services) can return messages in a variety of formats: HTML, XML, plain text, and JSON. \n",
    "JSON (JavaScript object notation) is favored as a message format because it can be read by any programming language (despite the name), is human- and machine-readable, and is lightweight. In this way, \n",
    "RESTful APIs are more flexible and can be easier to set up.\n",
    "\n",
    "A RESTful application must have:\n",
    "\n",
    "1. client-server architecture composed of clients, servers, and resources.\n",
    "2. Stateless client-server communication, meaning no client content is stored on the server between requests. Information about the session’s state is instead held with the client.\n",
    "3. Cacheable data to eliminate the need for some client-server interactions.\n",
    "4. uniform interface between components so that information is transferred in a standardized form instead of specific to an application’s needs. This is described by Roy Fielding, the originator of REST, as “the central feature that distinguishes the REST architectural style from other network-based styles.”\n",
    "5. layered system constraint, where client-server interactions can be mediated by hierarchical layers.\n",
    "6. Code on demand, allowing servers to extend the functionality of a client by transferring executable code (though also reducing visibility, making this an optional guideline).\n",
    "\n",
    "\n",
    "\n",
    "SOAP Architecture\n",
    "SOAP is a standard protocol that was first designed so that applications built with different languages and on different platforms could communicate. \n",
    "Because it is a protocol, it imposes built-in rules that increase its complexity and overhead, which can lead to longer page load times.\n",
    "\n",
    "Web services description language also WSDL describes what a web service does, and where that service begins and ends.\n",
    "\n",
    "When a request for data is sent to a SOAP API, it can be handled through any of the application layer protocols: \n",
    "HTTP (for web browsers), SMTP (for email), TCP, and others. However, once a request is received, return SOAP messages must be returned as XML documents—a markup language that is both human- and machine-readable. \n",
    "A completed request to a SOAP API is not cacheable by a browser, so it cannot be accessed later without resending to the API\n",
    "\n",
    "Shortcoming of SOAP\n",
    "\n",
    "1. Slow : SOAP uses the XML format which needs to be parsed and is lengthier too which makes SOAP slower than CORBA, RMI or IIOP.\n",
    "2. WSDL Dependence : It depends on WSDL and does not have any standardized mechanism for dynamic discovery of the services.\n",
    "\n",
    "\"\"\""
   ]
  },
  {
   "cell_type": "code",
   "execution_count": null,
   "metadata": {},
   "outputs": [],
   "source": [
    "# Ans 5 \n",
    "\"\"\" \n",
    "Difference b/w REST and SOAP \n",
    "\n",
    "Many legacy systems may still adhere to SOAP, while REST came later and is often viewed as a faster alternative in web-based scenarios. \n",
    "REST is a set of guidelines that offers flexible implementation, whereas SOAP is a protocol with specific requirements like XML messaging.\n",
    "\n",
    "REST APIs are lightweight, making them ideal for newer contexts like the Internet of Things (IoT), mobile application development, and serverless computing. \n",
    "SOAP web services offer built-in security and transaction compliance that align with many enterprise needs, but that also makes them heavier. \n",
    "Additionally, many public APIs, like the Google Maps API, follow the REST guidelines.\n",
    "\"\"\""
   ]
  }
 ],
 "metadata": {
  "kernelspec": {
   "display_name": "Python 3",
   "language": "python",
   "name": "python3"
  },
  "language_info": {
   "name": "python",
   "version": "3.10.6"
  },
  "orig_nbformat": 4,
  "vscode": {
   "interpreter": {
    "hash": "916dbcbb3f70747c44a77c7bcd40155683ae19c65e1c03b4aa3499c5328201f1"
   }
  }
 },
 "nbformat": 4,
 "nbformat_minor": 2
}
