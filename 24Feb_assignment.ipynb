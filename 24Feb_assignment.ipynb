{
 "cells": [
  {
   "cell_type": "code",
   "execution_count": null,
   "metadata": {},
   "outputs": [],
   "source": [
    "# Ans 1 \n",
    "\n",
    "# 1. read_csv()  reads a csv file and create a dataframe  \n",
    "import pandas \n",
    "df = pandas.read_csv(\"https://raw.githubusercontent.com/datasciencedojo/datasets/master/titanic.csv\")\n",
    "\n",
    "#2. df.describe() returns stats for any dataframe\n",
    "df.describe()\n",
    "\n",
    "#3. df.head() returns first five entries of a dataframe\n",
    "df.head() \n",
    "\n",
    "#4. df.tail() returns last five entries of a dataframe\n",
    "df.tail()\n",
    "\n",
    "#5. df[key].unique() returns unique values of a series in order of appearance\n",
    "df['Fare'].unique()"
   ]
  },
  {
   "cell_type": "code",
   "execution_count": 35,
   "metadata": {},
   "outputs": [
    {
     "name": "stdout",
     "output_type": "stream",
     "text": [
      "   A        B   C\n",
      "1  1    Shanu  50\n",
      "3  2    Surya  55\n",
      "5  3  Shivani  80\n"
     ]
    }
   ],
   "source": [
    "# Ans 2\n",
    "import pandas\n",
    "\n",
    "def reindex(df):\n",
    "    index = [i for i in range(1, 2*len(df), 2)]\n",
    "    df = df.set_index(pandas.Index(index))\n",
    "    return df\n",
    "\n",
    "dataframe = pandas.DataFrame({\"A\": [1,2,3], \"B\": [\"Shanu\", \"Surya\", \"Shivani\"], \"C\": [50, 55, 80]})\n",
    "dataframe = reindex(df)\n",
    "print(dataframe)\n"
   ]
  },
  {
   "cell_type": "code",
   "execution_count": 50,
   "metadata": {},
   "outputs": [
    {
     "name": "stdout",
     "output_type": "stream",
     "text": [
      "60\n"
     ]
    }
   ],
   "source": [
    "# Ans 3 \n",
    "import pandas\n",
    "\n",
    "def sum_of_column(dataframe: pandas.DataFrame, column_name: str, count: int):\n",
    "    sum = 0\n",
    "    for i in dataframe[column_name].head(count):\n",
    "        sum += i\n",
    "    return sum\n",
    "\n",
    "df  = pandas.DataFrame({\"A\": [1,2,3,4,5], \"Values\": [10,20,30,40,50]})\n",
    "# df = [20,50,60,45]\n",
    "try:\n",
    "    column_sum = sum_of_column(df, \"Values\", 3)\n",
    "    print(column_sum)\n",
    "except Exception as e:\n",
    "    print(e)\n"
   ]
  },
  {
   "cell_type": "code",
   "execution_count": 9,
   "metadata": {},
   "outputs": [
    {
     "name": "stdout",
     "output_type": "stream",
     "text": [
      "                                Text  Word_Count\n",
      "0  i want to become a data scientist          33\n",
      "1             i  am a data scientist          22\n"
     ]
    }
   ],
   "source": [
    "# Ans 4 \n",
    "import pandas\n",
    "\n",
    "def read_text(df, read_column: str, new_column: str):\n",
    "    df[new_column] = [len(i) for i in df[read_column]]\n",
    "    return df\n",
    "df = pandas.DataFrame({\"Text\": [\"i want to become a data scientist\", \"i  am a data scientist\"]})\n",
    "\n",
    "new_df = read_text(df, \"Text\", \"Word_Count\")\n",
    "print(new_df)\n",
    "\n"
   ]
  },
  {
   "cell_type": "code",
   "execution_count": 12,
   "metadata": {},
   "outputs": [
    {
     "name": "stdout",
     "output_type": "stream",
     "text": [
      "10692\n",
      "(891, 12)\n"
     ]
    }
   ],
   "source": [
    "# Ans 5 \n",
    "import pandas\n",
    "\n",
    "# Dataframe.size() : Returns size of dataframe/series which is equivalent to total number of elements. That is rows x columns.\n",
    "\n",
    "# Dataframe.shape() : Returns tuple of shape (Rows, columns) of dataframe/series\n",
    "\n",
    "df = pandas.read_csv(\"https://raw.githubusercontent.com/datasciencedojo/datasets/master/titanic.csv\")\n",
    "\n",
    "size = df.size\n",
    "print(size)\n",
    "shape = df.shape\n",
    "print(shape)\n"
   ]
  },
  {
   "cell_type": "code",
   "execution_count": null,
   "metadata": {},
   "outputs": [],
   "source": [
    "# Ans 6 \n",
    "\n",
    "import pandas\n",
    "\n",
    "\"\"\" \n",
    "We can use the pandas module read_excel() function to read the excel file data into a DataFrame object\n",
    "\"\"\"\n",
    "\n",
    "excel_data_df = pandas.read_excel('records.xlsx', sheet_name='Employees')\n",
    "\n",
    "# print whole sheet data\n",
    "print(excel_data_df)"
   ]
  },
  {
   "cell_type": "code",
   "execution_count": 52,
   "metadata": {},
   "outputs": [
    {
     "name": "stdout",
     "output_type": "stream",
     "text": [
      "                    emails      usernames\n",
      "0  shanutyagi010@gmail.com  shanutyagi010\n",
      "1      shivani99@gmail.com      shivani99\n",
      "2        surya24@gmail.com        surya24\n",
      "3    viplaw789@hotmail.com      viplaw789\n"
     ]
    }
   ],
   "source": [
    "# Ans 7\n",
    "import pandas\n",
    "\n",
    "\n",
    "def add_username(df, read_column, new_column):\n",
    "    username = ''\n",
    "    username_lst = []\n",
    "    for i in df[read_column]:\n",
    "        for j in i:\n",
    "            if j == \"@\":\n",
    "                break\n",
    "            username += j\n",
    "        username_lst.append(username)\n",
    "        username = ''\n",
    "    df[new_column] = username_lst\n",
    "    return df\n",
    "\n",
    "\n",
    "df = pandas.DataFrame({\"emails\" : [\"shanutyagi010@gmail.com\", \"shivani99@gmail.com\", \"surya24@gmail.com\", \"viplaw789@hotmail.com\"]})\n",
    "\n",
    "new_df = add_username(df, \"emails\", \"usernames\")\n",
    "print(new_df)"
   ]
  },
  {
   "cell_type": "code",
   "execution_count": 20,
   "metadata": {},
   "outputs": [
    {
     "name": "stdout",
     "output_type": "stream",
     "text": [
      "   A  B  C\n",
      "1  8  2  7\n",
      "2  6  9  4\n",
      "4  9  1  2\n"
     ]
    }
   ],
   "source": [
    "# Ans 8 \n",
    "import pandas\n",
    "\n",
    "def value_compare(df):\n",
    "    new_df = df[(df[\"A\"] > 5) & (df[\"B\"] < 10)]\n",
    "    return new_df\n",
    "\n",
    "df = pandas.DataFrame({\n",
    "    'A' : [3,8,6,2,9], \"B\": [5,2,9,3,1], \"C\": [1,7,4,5,2]\n",
    "})\n",
    "\n",
    "compared_df = value_compare(df)\n",
    "print(compared_df)\n",
    "\n",
    "\n"
   ]
  },
  {
   "cell_type": "code",
   "execution_count": 36,
   "metadata": {},
   "outputs": [
    {
     "name": "stdout",
     "output_type": "stream",
     "text": [
      "(34.27, 36.0, 27.7)\n"
     ]
    }
   ],
   "source": [
    "# Ans 9\n",
    "import pandas\n",
    "def df_stats(df, column):\n",
    "    mean = round(df[column].mean(), 2)\n",
    "    median = df[column].median()\n",
    "    sd = round(df[column].std(), 2)\n",
    "\n",
    "    return mean, median, sd\n",
    "\n",
    "df = pandas.DataFrame({\n",
    "    \"Values\": [5,56,48,69,2,36,75,8,10,12,56],\n",
    "})\n",
    "\n",
    "stats = df_stats(df, \"Values\")\n",
    "print(stats)\n"
   ]
  },
  {
   "cell_type": "code",
   "execution_count": null,
   "metadata": {},
   "outputs": [],
   "source": []
  },
  {
   "cell_type": "code",
   "execution_count": 32,
   "metadata": {},
   "outputs": [
    {
     "name": "stdout",
     "output_type": "stream",
     "text": [
      "10\n",
      "   Sales        Date  Moving Avg\n",
      "0      5  2023-03-15         5.0\n",
      "1     20  2023-03-14        12.0\n",
      "2     25  2023-03-13        17.0\n",
      "3     13  2023-03-12        16.0\n",
      "4     19  2023-03-11        16.0\n",
      "5     21  2023-03-10        17.0\n",
      "6     36  2023-03-09        20.0\n",
      "7     35  2023-03-08        24.0\n",
      "8     22  2023-03-07        24.0\n",
      "9     33  2023-03-06        26.0\n"
     ]
    }
   ],
   "source": [
    "# Ans 10 \n",
    "import pandas\n",
    "from datetime import datetime, timedelta\n",
    "\n",
    "base = datetime.now().date()\n",
    "datelist = [base - timedelta(days=x) for x in range(10)]\n",
    "print(len(datelist))\n",
    "def cal_moving_avg(df):\n",
    "    df[\"Moving Avg\"] = 0\n",
    "    df[\"Moving Avg\"] = round(df['Sales'].rolling(window=7, min_periods=1).mean())\n",
    "    return df\n",
    "\n",
    "df = pandas.DataFrame({\n",
    "    'Sales': [5, 20, 25, 13, 19, 21, 36, 35, 22, 33],\n",
    "    'Date': datelist\n",
    "\n",
    "})\n",
    "\n",
    "mv = cal_moving_avg(df)\n",
    "print(mv)"
   ]
  },
  {
   "cell_type": "code",
   "execution_count": 2,
   "metadata": {},
   "outputs": [
    {
     "name": "stdout",
     "output_type": "stream",
     "text": [
      "        Dates    Weekday\n",
      "0  2023-03-15  Wednesday\n",
      "1  2023-03-14    Tuesday\n",
      "2  2023-03-13     Monday\n",
      "3  2023-03-12     Sunday\n",
      "4  2023-03-11   Saturday\n",
      "5  2023-03-10     Friday\n",
      "6  2023-03-09   Thursday\n",
      "7  2023-03-08  Wednesday\n",
      "8  2023-03-07    Tuesday\n",
      "9  2023-03-06     Monday\n"
     ]
    }
   ],
   "source": [
    "# Ans 11 \n",
    "from datetime import datetime, date, timedelta\n",
    "import locale\n",
    "import pandas\n",
    "def weekdays(weekday):\n",
    "    current_locale = locale.getlocale()\n",
    "    if current_locale not in weekdays._days_cache:\n",
    "        weekdays._days_cache[current_locale] = [\n",
    "            # taking this from 2010 can be taken from any date \n",
    "            date(2010, 1, i).strftime('%A') for i in range(1, 8)]\n",
    "    days = weekdays._days_cache[current_locale]\n",
    "    index = days.index(weekday)\n",
    "    return days[index:] + days[:index]\n",
    "weekdays._days_cache = {} \n",
    "\n",
    "def add_weekday(df):\n",
    "    weekday_list = weekdays(\"Monday\")\n",
    "    weekday = []\n",
    "    for i in df[\"Dates\"]:\n",
    "        weekday.append(weekday_list[i.weekday()])\n",
    "    df[\"Weekday\"] = weekday\n",
    "    return df\n",
    "\n",
    "base = datetime.now().date()\n",
    "datelist = [base - timedelta(days=x) for x in range(10)]\n",
    "df = pandas.DataFrame({\"Dates\": datelist})\n",
    "new_df = add_weekday(df)\n",
    "print(new_df)\n",
    "\n",
    "\n"
   ]
  },
  {
   "cell_type": "code",
   "execution_count": 12,
   "metadata": {},
   "outputs": [
    {
     "name": "stdout",
     "output_type": "stream",
     "text": [
      "        Dates\n",
      "0  2023-01-01\n",
      "1  2023-01-02\n",
      "2  2023-01-03\n",
      "3  2023-01-04\n",
      "4  2023-01-05\n",
      "5  2023-01-06\n",
      "6  2023-01-07\n",
      "7  2023-01-08\n",
      "8  2023-01-09\n",
      "9  2023-01-10\n",
      "10 2023-01-11\n",
      "11 2023-01-12\n",
      "12 2023-01-13\n",
      "13 2023-01-14\n",
      "14 2023-01-15\n",
      "15 2023-01-16\n",
      "16 2023-01-17\n",
      "17 2023-01-18\n",
      "18 2023-01-19\n",
      "19 2023-01-20\n",
      "20 2023-01-21\n",
      "21 2023-01-22\n",
      "22 2023-01-23\n",
      "23 2023-01-24\n",
      "24 2023-01-25\n",
      "25 2023-01-26\n",
      "26 2023-01-27\n",
      "27 2023-01-28\n",
      "28 2023-01-29\n",
      "29 2023-01-30\n",
      "30 2023-01-31\n"
     ]
    }
   ],
   "source": [
    "# Ans 12 \n",
    "import pandas\n",
    "from datetime import datetime\n",
    "def select_rows(df):\n",
    "    date_range = (df['Dates'] >= '2023-01-01') & (df['Dates'] <= '2023-01-31')\n",
    "    filtered_df = df.loc[date_range]\n",
    "    return filtered_df\n",
    "\n",
    "datelist = pandas.date_range('2023-01-01', datetime.now().date())\n",
    "df = pandas.DataFrame({\"Dates\" : datelist})\n",
    "\n",
    "print(select_rows(df))"
   ]
  },
  {
   "cell_type": "code",
   "execution_count": null,
   "metadata": {},
   "outputs": [],
   "source": [
    "# Ans 13\n",
    "\n",
    "\"\"\" \n",
    "For using the basic function we first have to import pandas library itself \n",
    "All the functions like Series or DataFrame can be used after importing pandas\n",
    "\n",
    "although in the background as pandas is dependent on the NumPy library, we need to import this dependency.\n",
    "\"\"\""
   ]
  }
 ],
 "metadata": {
  "kernelspec": {
   "display_name": "Python 3",
   "language": "python",
   "name": "python3"
  },
  "language_info": {
   "codemirror_mode": {
    "name": "ipython",
    "version": 3
   },
   "file_extension": ".py",
   "mimetype": "text/x-python",
   "name": "python",
   "nbconvert_exporter": "python",
   "pygments_lexer": "ipython3",
   "version": "3.10.6"
  },
  "orig_nbformat": 4
 },
 "nbformat": 4,
 "nbformat_minor": 2
}
