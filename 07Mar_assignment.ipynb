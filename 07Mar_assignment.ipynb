{
 "cells": [
  {
   "cell_type": "code",
   "execution_count": null,
   "metadata": {},
   "outputs": [],
   "source": [
    "# Ans 1\n",
    "\n",
    "\"\"\" \n",
    "Mean: The mean is the most commonly used measure of central tendency. It is calculated by summing up all the values in a dataset and dividing it by the total number of values. The mean represents the average value of the dataset and is sensitive to extreme values.\n",
    "\n",
    "Median: The median is the middle value in a dataset when the values are arranged in ascending or descending order. If there is an even number of values, the median is the average of the two middle values. The median is a robust measure of central tendency as it is not affected by extreme values.\n",
    "\n",
    "Mode: The mode is the value or values that occur most frequently in a dataset. A dataset can have multiple modes if multiple values have the same highest frequency. Unlike the mean and median, the mode can be used with categorical or discrete data as well.\n",
    "\"\"\""
   ]
  },
  {
   "cell_type": "code",
   "execution_count": null,
   "metadata": {},
   "outputs": [],
   "source": [
    "# Ans 2\n",
    "\n",
    "\"\"\" \n",
    "The mean, median, and mode are all measures of central tendency, but they capture different aspects of a dataset. Here's a summary of their differences and how they are used:\n",
    "\n",
    "Mean:\n",
    "Definition: The mean is calculated by summing up all the values in a dataset and dividing it by the total number of values.\n",
    "Calculation: Mean = (Sum of all values) / (Total number of values)\n",
    "Use: The mean represents the average value of the dataset. It is widely used to describe the central tendency when the data is normally distributed or approximately symmetric. However, the mean can be sensitive to extreme values (outliers) that pull the average in their direction\n",
    "\n",
    "Median:\n",
    "Definition: The median is the middle value in a dataset when the values are arranged in ascending or descending order. If there is an even number of values, the median is the average of the two middle values.\n",
    "Use: The median is a robust measure of central tendency that is not affected by extreme values or outliers. It is particularly useful when the dataset is skewed or contains outliers, as it provides a measure of the \"typical\" or \"central\" value. The median is also useful for ordinal or interval data.\n",
    "\n",
    "\n",
    "Mode:\n",
    "Definition: The mode is the value or values that occur most frequently in a dataset.\n",
    "Use: The mode is useful for identifying the most common or frequently occurring value(s) in a dataset. It is commonly used for categorical or discrete data, but it can also be used with continuous data. The mode can be helpful in identifying the dominant category or the peak of a distribution, especially for non-normal or multimodal distributions.\n",
    "\"\"\""
   ]
  },
  {
   "cell_type": "code",
   "execution_count": null,
   "metadata": {},
   "outputs": [],
   "source": [
    "# Ans 3 \n",
    "\n",
    "\n",
    "# mean =177.01875\n",
    "# median = 177.0\n",
    "# mode = 177.01, 178.0\n"
   ]
  },
  {
   "cell_type": "code",
   "execution_count": 9,
   "metadata": {},
   "outputs": [
    {
     "name": "stdout",
     "output_type": "stream",
     "text": [
      "1.7885814036548633\n"
     ]
    }
   ],
   "source": [
    "# Ans 4\n",
    "\n",
    "import numpy\n",
    "\n",
    "\n",
    "data = [178,177,176,177,178.2,178,175,179,180,175,178.9,176.2,177,172.5,178,176.5]\n",
    "print(numpy.std(data))\n"
   ]
  },
  {
   "cell_type": "code",
   "execution_count": null,
   "metadata": {},
   "outputs": [],
   "source": [
    "# Ans 5  \n",
    "\n",
    "\"\"\" \n",
    "Range:\n",
    "\n",
    "Definition: The range is the simplest measure of dispersion and is calculated as the difference between the maximum and minimum values in a dataset.\n",
    "Use: The range provides a rough estimate of the spread of the dataset. However, it is sensitive to outliers and does not take into account the distribution of the data.\n",
    "Variance:\n",
    "\n",
    "Definition: The variance is the average of the squared differences between each data point and the mean of the dataset.\n",
    "Calculation: Variance = Sum of ((Data point - Mean)^2) / (Total number of data points)\n",
    "Use: The variance provides a measure of the average squared distance between each data point and the mean. It quantifies the overall spread of the dataset and is widely used in statistical analysis. However, since it is in squared units, it may not be directly interpretable.\n",
    "Standard Deviation:\n",
    "\n",
    "Definition: The standard deviation is the square root of the variance and provides a measure of the average distance between each data point and the mean.\n",
    "Calculation: Standard Deviation = Square root of Variance\n",
    "Use: The standard deviation is one of the most commonly used measures of dispersion. It represents the typical distance of data points from the mean and provides a more interpretable measure than the variance. It is widely used in inferential statistics, data analysis, and for comparing the spread of different datasets\n",
    "\"\"\"\n",
    "\n",
    "import numpy as np\n",
    "\n",
    "heights = np.array([160, 165, 170, 175, 180])\n",
    "\n",
    "# Range\n",
    "range_val = np.max(heights) - np.min(heights)\n",
    "\n",
    "# Variance\n",
    "variance = np.v ar(heights)\n",
    "\n",
    "# Standard Deviation\n",
    "std_deviation = np.std(heights)\n",
    "\n",
    "print(\"Range:\", range_val)\n",
    "print(\"Variance:\", variance)\n",
    "print(\"Standard Deviation:\", std_deviation)"
   ]
  },
  {
   "cell_type": "code",
   "execution_count": null,
   "metadata": {},
   "outputs": [],
   "source": [
    "# Ans 6 \n",
    "\n",
    "\"\"\" \n",
    "A Venn diagram is a visual representation of the relationships between different sets of items. It uses overlapping circles or other shapes to illustrate the commonalities and differences between sets. Venn diagrams are often used in mathematics, logic, statistics, and other fields to visually display the relationships and intersections of multiple sets.\n",
    "\n",
    "The main components of a Venn diagram are:\n",
    "\n",
    "Sets: Each circle or shape in a Venn diagram represents a set or category of items. The items within a set share a common characteristic or property.\n",
    "\n",
    "Overlapping Regions: The overlapping regions in the Venn diagram represent the intersections between sets. These regions indicate the elements that are shared by multiple sets.\n",
    "\n",
    "Non-Overlapping Regions: The non-overlapping areas outside the intersections represent the unique elements that are specific to each individual set.\n",
    "\n",
    "Venn diagrams can be used to illustrate concepts such as union (the combination of all elements in multiple sets), intersection (the elements common to multiple sets), complement (the elements not belonging to a particular set)\n",
    "\"\"\""
   ]
  },
  {
   "cell_type": "code",
   "execution_count": null,
   "metadata": {},
   "outputs": [],
   "source": [
    "# Ans 7\n",
    "\n",
    "# two given sets A = (2,3,4,5,6,7) & B  = (0,2,6,8,10).\n",
    "\n",
    "# A Intersection B  = {2, 6}\n",
    "# A Union B         = {0,2,3,4,5,6,7,8,10}"
   ]
  },
  {
   "cell_type": "code",
   "execution_count": null,
   "metadata": {},
   "outputs": [],
   "source": [
    "# Ans 8 \n",
    "\n",
    "\"\"\" \n",
    "Skewness is a statistical measure that quantifies the asymmetry or lack of symmetry in a dataset's distribution. It provides information about the shape and characteristics of the data distribution. Skewness is an essential concept in descriptive statistics and data analysis, as it helps understand the nature and behavior of the data.\n",
    "\n",
    "Skewness can have three possible outcomes:\n",
    "\n",
    "Positive Skewness (Right-skewed): In a positively skewed distribution, the tail of the distribution extends towards the right side. This means that the majority of the data points are concentrated on the left side of the distribution, while the right side has a few extreme values. The mean is typically greater than the median in a positively skewed distribution.\n",
    "\n",
    "Negative Skewness (Left-skewed): In a negatively skewed distribution, the tail of the distribution extends towards the left side. This indicates that the majority of the data points are concentrated on the right side of the distribution, while the left side has a few extreme values. The mean is typically less than the median in a negatively skewed distribution.\n",
    "\n",
    "Zero Skewness (Symmetrical): A distribution is considered symmetrical or normally distributed when it has zero skewness. In a symmetrical distribution, the data is evenly distributed around the mean, and the left and right tails are equal in length.\n",
    "\"\"\""
   ]
  },
  {
   "cell_type": "code",
   "execution_count": null,
   "metadata": {},
   "outputs": [],
   "source": [
    "# Ans 9 \n",
    "\n",
    "\"\"\" \n",
    "The mean is typically greater than the median in a positively skewed distribution.\n",
    "\n",
    "mean >= median >= mode\n",
    "\"\"\""
   ]
  },
  {
   "cell_type": "code",
   "execution_count": null,
   "metadata": {},
   "outputs": [],
   "source": [
    "# Ans 10 \n",
    "\n",
    "\"\"\" \n",
    "Covariance and correlation are both measures used to quantify the relationship between two variables in statistical analysis. While they are related, there are key differences between them:\n",
    "\n",
    "Covariance:\n",
    "\n",
    "Definition: Covariance measures the direction and magnitude of the linear relationship between two variables.\n",
    "Calculation: Covariance is calculated as the average of the products of the deviations of each variable from their respective means.\n",
    "Range: Covariance can take any value, positive or negative, depending on the direction of the relationship.\n",
    "Interpretation: A positive covariance indicates a positive relationship, meaning that when one variable increases, the other tends to increase as well. A negative covariance indicates a negative relationship, meaning that when one variable increases, the other tends to decrease. However, the magnitude of covariance is difficult to interpret on its own.\n",
    "Correlation:\n",
    "\n",
    "Definition: Correlation measures the strength and direction of the linear relationship between two variables. It is a standardized measure of covariance.\n",
    "Calculation: Correlation is calculated by dividing the covariance by the product of the standard deviations of the two variables.\n",
    "Range: Correlation values range between -1 and 1, where -1 represents a perfect negative correlation, 1 represents a perfect positive correlation, and 0 represents no correlation.\n",
    "Interpretation: Correlation provides a standardized measure that is easier to interpret. A correlation of 1 or -1 indicates a strong linear relationship, while a correlation of 0 indicates no linear relationship. The sign of the correlation (+/-) indicates the direction of the relationship.\n",
    "\"\"\""
   ]
  },
  {
   "cell_type": "code",
   "execution_count": null,
   "metadata": {},
   "outputs": [],
   "source": [
    "# Ans 11 \n",
    "\n",
    "\"\"\" \n",
    "The formula for calculating the sample mean is as follows:\n",
    "\n",
    "Sample Mean = (Sum of all data points) / (Number of data points)\n",
    "\n",
    "To calculate the sample mean, you add up all the data points in the dataset and then divide the sum by the total number of data points.\n",
    "\n",
    "Here's an example calculation for a dataset:\n",
    "\n",
    "Consider the following dataset of exam scores: [85, 90, 92, 88, 95]\n",
    "\n",
    "To calculate the sample mean:\n",
    "\n",
    "Add up all the data points: 85 + 90 + 92 + 88 + 95 = 450\n",
    "Divide the sum by the number of data points: 450 / 5 = 90\n",
    "Therefore, the sample mean of the dataset is 90.\n",
    "\"\"\""
   ]
  },
  {
   "cell_type": "code",
   "execution_count": null,
   "metadata": {},
   "outputs": [],
   "source": [
    "# Ans 12 \n",
    "\n",
    "\"\"\" \n",
    "For a normal distribution, the measures of central tendency—mean, median, and mode—are all equal and located at the center of the distribution.\n",
    "\n",
    "Mean: The mean of a normal distribution is equal to the median and mode. It represents the average value of the dataset and is calculated by summing all the data points and dividing by the total number of data points.\n",
    "\n",
    "Median: The median of a normal distribution is equal to the mean and mode. It represents the middle value in a dataset when the data points are arranged in ascending or descending order. In a symmetric normal distribution, the median is the same as the mean, located at the center of the distribution.\n",
    "\n",
    "Mode: The mode of a normal distribution is equal to the mean and median. It represents the value or values that occur most frequently in the dataset. In a symmetric normal distribution, there is a single mode located at the peak of the distribution.\n",
    "\"\"\""
   ]
  },
  {
   "cell_type": "code",
   "execution_count": null,
   "metadata": {},
   "outputs": [],
   "source": [
    "# Ans 13 \n",
    "\"\"\" \n",
    "Covariance and correlation are both measures that describe the relationship between two variables, but they differ in their interpretation and scale. Here are the key differences between covariance and correlation:\n",
    "\n",
    "Interpretation:\n",
    "\n",
    "Covariance: Covariance measures the direction and magnitude of the linear relationship between two variables. It indicates whether the variables tend to move together (positive covariance) or in opposite directions (negative covariance).\n",
    "Correlation: Correlation measures the strength and direction of the linear relationship between two variables. It provides a standardized measure of association that ranges from -1 to 1, where -1 indicates a perfect negative correlation, 1 indicates a perfect positive correlation, and 0 indicates no linear correlation.\n",
    "Scale:\n",
    "\n",
    "Covariance: Covariance values are not standardized and can take any value, positive or negative, depending on the scale of the variables. Consequently, the magnitude of covariance is difficult to interpret on its own.\n",
    "Correlation: Correlation is a standardized measure, calculated by dividing the covariance by the product of the standard deviations of the two variables. The resulting correlation coefficient is bounded between -1 and 1, allowing for easier interpretation and comparison across different datasets.\n",
    "Units:\n",
    "\n",
    "Covariance: Covariance is in the units of the variables being measured. For example, if the variables are measured in different units or have different scales, the covariance value will be affected accordingly.\n",
    "Correlation: Correlation is a unitless measure since it is calculated by standardizing the variables. It is not influenced by the scale or units of the variables, making it more suitable for comparing the strength of relationships between variables.\n",
    "Interpretation of strength:\n",
    "\n",
    "Covariance: The magnitude of covariance does not provide a clear indication of the strength of the relationship between variables. It depends on the scales of the variables and cannot be directly compared across different datasets.\n",
    "Correlation: The magnitude of correlation indicates the strength of the linear relationship between variables. Values closer to -1 or 1 indicate a stronger relationship, while values closer to 0 suggest a weaker or no linear relationship.\n",
    "\"\"\""
   ]
  },
  {
   "cell_type": "code",
   "execution_count": null,
   "metadata": {},
   "outputs": [],
   "source": [
    "# Ans 14 \n",
    "\n",
    "\"\"\" \n",
    "Outliers can have a significant impact on measures of central tendency and dispersion in a dataset. Here's how outliers affect these measures:\n",
    "\n",
    "Measures of Central Tendency (e.g., Mean, Median, Mode):\n",
    "\n",
    "Mean: Outliers can greatly influence the mean since it takes into account the value of each data point. Outliers with extreme values can pull the mean towards their direction, resulting in a distorted estimate of the central tendency. For example, in a dataset of salaries where most values are around $50,000 but there is one outlier with a salary of $1 million, the mean will be heavily skewed towards the outlier.\n",
    "Median: The median is less affected by outliers since it only considers the middle value(s) in the ordered dataset. Outliers have little impact on the median if they are far away from the central position. However, if the outlier is located near or within the middle range, it can significantly shift the median towards its value.\n",
    "Mode: The mode, representing the most frequent value(s) in the dataset, is generally not influenced by outliers. Outliers have minimal effect on the mode since it depends on the frequencies of values rather than their magnitudes.\n",
    "Measures of Dispersion (e.g., Range, Variance, Standard Deviation):\n",
    "\n",
    "Range: Outliers can substantially impact the range since it is the difference between the maximum and minimum values. If an outlier is significantly higher or lower than the rest of the dataset, it can dramatically increase or decrease the range.\n",
    "Variance and Standard Deviation: Outliers can greatly influence the variance and standard deviation since they involve the squared differences of each data point from the mean. Outliers with extreme values can increase the overall variability in the dataset and result in larger variance and standard deviation values.\n",
    "\"\"\""
   ]
  }
 ],
 "metadata": {
  "kernelspec": {
   "display_name": "Python 3",
   "language": "python",
   "name": "python3"
  },
  "language_info": {
   "codemirror_mode": {
    "name": "ipython",
    "version": 3
   },
   "file_extension": ".py",
   "mimetype": "text/x-python",
   "name": "python",
   "nbconvert_exporter": "python",
   "pygments_lexer": "ipython3",
   "version": "3.10.6"
  },
  "orig_nbformat": 4
 },
 "nbformat": 4,
 "nbformat_minor": 2
}
