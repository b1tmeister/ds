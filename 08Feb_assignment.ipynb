{
 "cells": [
  {
   "cell_type": "code",
   "execution_count": null,
   "metadata": {},
   "outputs": [],
   "source": [
    "# Ans 1 \n",
    "\"\"\"\n",
    "In object-oriented programming (OOP), \n",
    "abstraction refers to the process of hiding unnecessary implementation details \n",
    "and focusing only on the essential features of an object. \n",
    "Abstraction allows you to create simpler, \n",
    "more manageable code by breaking down complex systems into more manageable parts.\n",
    "\"\"\"\n",
    "# EXMAPLE\n",
    "\n",
    "class BankAccount:\n",
    "    def __init__(self):\n",
    "        self.__balance = 0  # Private instance variable\n",
    "\n",
    "    def deposit(self, amount):\n",
    "        self.__balance += amount\n",
    "\n",
    "    def withdraw(self, amount):\n",
    "        if self.__balance >= amount:\n",
    "            self.__balance -= amount\n",
    "        else:\n",
    "            print(\"Insufficient balance\")\n",
    "\n",
    "    def get_balance(self):\n",
    "        return self.__balance\n",
    "\n",
    "# create an object of BankAccount class\n",
    "account = BankAccount()\n",
    "\n",
    "# try to access balance directly\n",
    "print(account.__balance) # Will result in an AttributeError as __balance is a private variable\n",
    "\n",
    "# get the balance using a getter method\n",
    "print(account.get_balance())\n"
   ]
  },
  {
   "cell_type": "code",
   "execution_count": null,
   "metadata": {},
   "outputs": [],
   "source": [
    "# Ans 2 \n",
    "\n",
    "\"\"\"\n",
    "Abstraction - is the process (and result of this process) of identifying the common essential characteristics for a set of objects. \n",
    "One might say that Abstraction is the process of generalization: all objects under consideration are included in a superset of objects, \n",
    "all of which possess given properties (but are different in other respects).\n",
    "\"\"\"\n",
    "\n",
    "\"\"\" \n",
    "Encapsulation - is the process of enclosing data and functions manipulating this data into a single unit, \n",
    "so that to hide the internal implementation from the outside world.\n",
    "\"\"\"\n",
    "\n",
    "# EXMAPLE \n",
    "\n",
    "class Car:\n",
    "    def __init__(self, make, model, year):\n",
    "        self.__make = make\n",
    "        self.__model = model\n",
    "        self.__year = year\n",
    "\n",
    "    def start(self):\n",
    "        pass  # implementation details hidden\n",
    "\n",
    "    def stop(self):\n",
    "        pass  # implementation details hidden\n",
    "\n",
    "    def get_make(self):\n",
    "        return self.__make\n",
    "\n",
    "    def get_model(self):\n",
    "        return self.__model\n",
    "\n",
    "    def get_year(self):\n",
    "        return self.__year\n",
    "\n",
    "\"\"\" \n",
    "The implementation details of the start and stop methods are hidden from the user, achieving abstraction. \n",
    "The user of the class only needs to know that calling start will start the car and calling stop will stop the car.\n",
    "\"\"\"\n",
    "\n",
    "\"\"\" \n",
    "The data attributes __make, __model, and __year are hidden from the user, achieving encapsulation.\n",
    "\"\"\""
   ]
  },
  {
   "cell_type": "code",
   "execution_count": null,
   "metadata": {},
   "outputs": [],
   "source": [
    "# Ans 3 \n",
    "\n",
    "\"\"\" \n",
    "The main goal of the abstract base class is to provide a standardized way to test whether an object adheres to a given specification. \n",
    "It can also prevent any attempt to instantiate a subclass that doesn’t override a particular method in the superclass. \n",
    "And finally, using an abstract class, a class can derive identity from another class without any object inheritance.\n",
    "\"\"\""
   ]
  },
  {
   "cell_type": "code",
   "execution_count": null,
   "metadata": {},
   "outputs": [],
   "source": [
    "# Ans 4 \n",
    "\n",
    "\"\"\"\n",
    "An Example of achieve data abstraction with '__'. \n",
    "\"\"\"\n",
    "class BankAccount:\n",
    "    def __init__(self):\n",
    "        self.__balance = 0  # Private instance variable\n",
    "\n",
    "    def deposit(self, amount):\n",
    "        self.__balance += amount\n",
    "\n",
    "    def withdraw(self, amount):\n",
    "        if self.__balance >= amount:\n",
    "            self.__balance -= amount\n",
    "        else:\n",
    "            print(\"Insufficient balance\")\n",
    "\n",
    "    def get_balance(self):\n",
    "        return self.__balance"
   ]
  },
  {
   "cell_type": "code",
   "execution_count": null,
   "metadata": {},
   "outputs": [],
   "source": [
    "# Ans 5 \n",
    "\n",
    "\"\"\"\n",
    "No, we cannot create an instance of an abstract class directly because an abstract class is an incomplete class that contains abstract methods, which do not have any implementation.\n",
    "Instead, we must create a concrete subclass of the abstract class and provide an implementation for all the abstract methods.\n",
    "An abstract class is intended to serve as a blueprint for its concrete subclasses, \n",
    "so it cannot be instantiated on its own. If we try to create an instance of an abstract class, we will get a TypeError.\n",
    "\"\"\""
   ]
  }
 ],
 "metadata": {
  "kernelspec": {
   "display_name": "Python 3",
   "language": "python",
   "name": "python3"
  },
  "language_info": {
   "codemirror_mode": {
    "name": "ipython",
    "version": 3
   },
   "file_extension": ".py",
   "mimetype": "text/x-python",
   "name": "python",
   "nbconvert_exporter": "python",
   "pygments_lexer": "ipython3",
   "version": "3.10.6"
  },
  "orig_nbformat": 4,
  "vscode": {
   "interpreter": {
    "hash": "916dbcbb3f70747c44a77c7bcd40155683ae19c65e1c03b4aa3499c5328201f1"
   }
  }
 },
 "nbformat": 4,
 "nbformat_minor": 2
}
