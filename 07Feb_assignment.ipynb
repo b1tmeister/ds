{
 "cells": [
  {
   "cell_type": "code",
   "execution_count": 13,
   "metadata": {},
   "outputs": [
    {
     "name": "stdout",
     "output_type": "stream",
     "text": [
      "Invalid Password\n"
     ]
    }
   ],
   "source": [
    "import re\n",
    "def validate_password(password):\n",
    "\n",
    "    if len(password) < 10:\n",
    "        return 'Invalid Password'\n",
    "\n",
    "    upper_count = 0\n",
    "    for i in password:\n",
    "        if i.isupper():\n",
    "            upper_count += 1\n",
    "\n",
    "    lower_count = 0\n",
    "    for i in password:\n",
    "        if i.islower():\n",
    "            lower_count += 1\n",
    "\n",
    "    special_cars = \"!@#$%^&*()_+-=[]{};':\\\",./<>?\"\n",
    "    special_cars_count = 0\n",
    "    for i in password:\n",
    "        if i in special_cars:\n",
    "            special_cars_count += 1\n",
    "\n",
    "    number_count = 0\n",
    "    for i in password:\n",
    "        if isinstance(i, int):\n",
    "            number += 1\n",
    "    \n",
    "    if upper_count < 2 or lower_count < 2 or special_cars_count < 3 or number_count < 1:\n",
    "        return \"Invalid Password\"\n",
    "    \n",
    "    return \"Valid Password\"\n",
    "    \n",
    "password = input(\"Create Password\")\n",
    "print(validate_password(password))"
   ]
  },
  {
   "cell_type": "code",
   "execution_count": 5,
   "metadata": {},
   "outputs": [
    {
     "name": "stdout",
     "output_type": "stream",
     "text": [
      "1. True\n",
      "2. True\n",
      "3. [('orange', 80), ('mango', 99), ('grapes', 1000)]\n",
      "4. [1, 4, 9, 16, 25, 36, 49, 64, 81, 100]\n",
      "5. [1, 8, 27, 64, 125, 216, 343, 512, 729, 1000]\n",
      "6. True\n",
      "7. [1, 3, 5, 7, 9]\n",
      "8. [1, 2, 3, 4, 5, 6, 0]\n",
      "8. [-1, -2, -3, -4, -5]\n"
     ]
    }
   ],
   "source": [
    "\n",
    "string_starting = lambda x, y : x.startswith(y)\n",
    "print(\"1.\" , string_starting(\"shanu\", \"s\"))\n",
    "\n",
    "is_numeric = lambda x : x.isnumeric()\n",
    "print(\"2.\", is_numeric(\"123\"))\n",
    "\n",
    "fruits = [(\"mango\",99),(\"orange\",80), (\"grapes\", 1000)]\n",
    "sorting = lambda a_list : sorted(a_list, key=lambda x : x[1])\n",
    "print(\"3.\", sorting(fruits))\n",
    "\n",
    "sqrd_numbers = list(map(lambda x : x**2, range(1,11)))\n",
    "print(\"4.\",sqrd_numbers)\n",
    "\n",
    "cube_numbers = list(map(lambda x : x**3, range(1,11)))\n",
    "print(\"5.\",cube_numbers)\n",
    "\n",
    "even_number = lambda x : x % 2 == 0\n",
    "print(\"6.\",even_number(4))\n",
    "\n",
    "filtering = list(filter(lambda x : x % 2 != 0, [1,2,3,4,5,6,7,8,9,10]))\n",
    "print(\"7.\",filtering)\n",
    "\n",
    "lst = [1,2,3,4,5,6,-1,-2,-3,-4,-5,0]\n",
    "positive_list = list(filter(lambda x : x >= 0, lst))\n",
    "negative_list = list(filter(lambda x : x < 0, lst))\n",
    "print(\"8.\",positive_list)\n",
    "print(\"8.\",negative_list)\n",
    "\n",
    "\n",
    "\n"
   ]
  },
  {
   "cell_type": "code",
   "execution_count": null,
   "metadata": {},
   "outputs": [],
   "source": []
  }
 ],
 "metadata": {
  "kernelspec": {
   "display_name": "Python 3",
   "language": "python",
   "name": "python3"
  },
  "language_info": {
   "codemirror_mode": {
    "name": "ipython",
    "version": 3
   },
   "file_extension": ".py",
   "mimetype": "text/x-python",
   "name": "python",
   "nbconvert_exporter": "python",
   "pygments_lexer": "ipython3",
   "version": "3.10.6"
  },
  "orig_nbformat": 4,
  "vscode": {
   "interpreter": {
    "hash": "916dbcbb3f70747c44a77c7bcd40155683ae19c65e1c03b4aa3499c5328201f1"
   }
  }
 },
 "nbformat": 4,
 "nbformat_minor": 2
}
