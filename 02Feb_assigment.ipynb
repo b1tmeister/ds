{
 "cells": [
  {
   "cell_type": "code",
   "execution_count": null,
   "metadata": {},
   "outputs": [],
   "source": [
    "# Ans1: \n",
    "# For Loop is used when the number of iteration are known\n",
    "for i in range(0, 10):\n",
    "    print(i)\n",
    "# While loop is used the iteration are not know\n",
    "num = int(input(\"A Number\"))\n",
    "i = 0\n",
    "while i <= num:\n",
    "    print(i)\n",
    "    i += 1   "
   ]
  },
  {
   "cell_type": "code",
   "execution_count": 15,
   "metadata": {},
   "outputs": [
    {
     "name": "stdout",
     "output_type": "stream",
     "text": [
      "55\n",
      "3628800\n"
     ]
    }
   ],
   "source": [
    "# Ans 2\n",
    "# Sum of first natural numbers \n",
    "# FOR Loop\n",
    "sum = 0\n",
    "product = 1\n",
    "for i in range(1, 11):\n",
    "    sum += i\n",
    "    product *= i \n",
    "print(sum)\n",
    "print(product)\n",
    "\n",
    "# While Loop \n",
    "number = 10\n",
    "sum = 0\n",
    "product = 1\n",
    "while number > 0:\n",
    "    sum += number\n",
    "    product *= number\n",
    "    number -= 1\n",
    "print(sum)\n",
    "print(product)\n"
   ]
  },
  {
   "cell_type": "code",
   "execution_count": 1,
   "metadata": {},
   "outputs": [
    {
     "name": "stdout",
     "output_type": "stream",
     "text": [
      "2250.0\n"
     ]
    }
   ],
   "source": [
    "# Ans 3\n",
    "units_consumed = float(input(\"Enter the unit consumed\"))\n",
    "if units_consumed <= 100:\n",
    "    charges = 4.5*units_consumed\n",
    "    print(charges)\n",
    "elif units_consumed <= 200:\n",
    "    charges = 100*4.5 + (units_consumed - 100) * 6\n",
    "    print(charges)\n",
    "elif units_consumed <= 300:\n",
    "    charges = 100*4.5 + 100 * 6 + (units_consumed - 200) * 10\n",
    "    print(charges)\n",
    "else:\n",
    "    charges = 100*4.5 + 100*6 + 100 * 10 + (units_consumed - 300) * 20\n",
    "    print(charges) "
   ]
  },
  {
   "cell_type": "code",
   "execution_count": 7,
   "metadata": {},
   "outputs": [
    {
     "name": "stdout",
     "output_type": "stream",
     "text": [
      "[8, 64, 125, 216, 512, 1000, 1728, 2744, 3375, 4096, 5832, 8000, 10648, 13824, 15625, 17576, 21952, 27000, 32768, 39304, 42875, 46656, 54872, 64000, 74088, 85184, 91125, 97336, 110592, 125000, 140608, 157464, 166375, 175616, 195112, 216000, 238328, 262144, 274625, 287496, 314432, 343000, 373248, 405224, 421875, 438976, 474552, 512000, 551368, 592704, 614125, 636056, 681472, 729000, 778688, 830584, 857375, 884736, 941192, 1000000]\n"
     ]
    }
   ],
   "source": [
    "# Ans 4\n",
    "list_of_numbers = []\n",
    "for i in range(1, 101):\n",
    "    list_of_numbers.append(i)\n",
    "\n",
    "list_of_divided_numbers = []\n",
    "for num in list_of_numbers:\n",
    "    cube = num**3\n",
    "    if cube % 4 == 0 or cube % 5 == 0:\n",
    "        list_of_divided_numbers.append(cube)\n",
    "print(list_of_divided_numbers)\n"
   ]
  },
  {
   "cell_type": "code",
   "execution_count": 10,
   "metadata": {},
   "outputs": [
    {
     "name": "stdout",
     "output_type": "stream",
     "text": [
      "['a', 'a', 'a', 'a', 'e', 'e', 'e', 'i', 'i', 'i', 'o', 'o']\n"
     ]
    }
   ],
   "source": [
    "# Ans 5\n",
    "\n",
    "vowels = ['a', 'e', 'i', 'o', 'u']\n",
    "string_data = \"I want to become a data scientist\"\n",
    "vowels_in_string = []\n",
    "for v in vowels:\n",
    "    for i in string_data.lower():\n",
    "        if v == i:\n",
    "            vowels_in_string.append(v)\n",
    "print(len(vowels_in_string))"
   ]
  },
  {
   "cell_type": "code",
   "execution_count": null,
   "metadata": {},
   "outputs": [],
   "source": []
  }
 ],
 "metadata": {
  "kernelspec": {
   "display_name": "Python 3",
   "language": "python",
   "name": "python3"
  },
  "language_info": {
   "codemirror_mode": {
    "name": "ipython",
    "version": 3
   },
   "file_extension": ".py",
   "mimetype": "text/x-python",
   "name": "python",
   "nbconvert_exporter": "python",
   "pygments_lexer": "ipython3",
   "version": "3.10.6"
  },
  "orig_nbformat": 4,
  "vscode": {
   "interpreter": {
    "hash": "916dbcbb3f70747c44a77c7bcd40155683ae19c65e1c03b4aa3499c5328201f1"
   }
  }
 },
 "nbformat": 4,
 "nbformat_minor": 2
}
