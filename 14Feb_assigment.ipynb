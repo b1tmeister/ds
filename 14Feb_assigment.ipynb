{
 "cells": [
  {
   "cell_type": "code",
   "execution_count": null,
   "metadata": {},
   "outputs": [],
   "source": [
    "# Ans 1 \n",
    "\"\"\" \n",
    "Multithreading is a threading technique in python to run multiple threads concurrently by rapidly switching between threads with a CPU help which is called context switching\n",
    "it is aims to perform multiple tasks simultaneously, which increases performance, speed and improves the rendering of the application\n",
    "\n",
    "The 'threading' module is used in python version 3+ to work with threads\n",
    "\"\"\""
   ]
  },
  {
   "cell_type": "code",
   "execution_count": null,
   "metadata": {},
   "outputs": [],
   "source": [
    "# Ans 2 \n",
    "\"\"\" \n",
    "'threading' module is used in python to work with threads and to manage threads\n",
    "\"\"\"\n",
    "\n",
    "# activeCount() funtion of threading module is returns the number of thread object that are active\n",
    "# eg: thread.activeCount()\n",
    "\n",
    "# currentThread() function returns the number of thread that present in the caller's thread control\n",
    "# eg: thread.currentThread() \n",
    "\n",
    "# enumerate() function returns the LIST of all the thread object that are currently active \n",
    "# eg: thread.enumerate()\n"
   ]
  },
  {
   "cell_type": "code",
   "execution_count": null,
   "metadata": {},
   "outputs": [],
   "source": [
    "# Ans 3 \n",
    "\n",
    "\"\"\" \n",
    "run()  \n",
    "this method is the entry point for a thread\n",
    "\n",
    "start() \n",
    "this method starts a thread by calling the run() method\n",
    "\n",
    "join([time]) \n",
    "join() waits for threads to terminate\n",
    "\n",
    "isAlive()\n",
    "this method checks whether a thread is still executing or not\n",
    "\"\"\""
   ]
  },
  {
   "cell_type": "code",
   "execution_count": 10,
   "metadata": {},
   "outputs": [
    {
     "name": "stdout",
     "output_type": "stream",
     "text": [
      "<Thread(Thread-23 (print_list), initial)>\n",
      "<Thread(Thread-24 (print_list), initial)>\n"
     ]
    },
    {
     "name": "stdout",
     "output_type": "stream",
     "text": [
      "[1, 8, 27, 64, 125, 216, 343, 512, 729, 1000]\n",
      "[1, 4, 9, 16, 25, 36, 49, 64, 81, 100]\n"
     ]
    }
   ],
   "source": [
    "# Ans 4 \n",
    "import threading\n",
    "import time\n",
    "def squares():\n",
    "    time.sleep(4)\n",
    "    return [i**2 for i in range(1, 11)]\n",
    "\n",
    "def cubes():\n",
    "    time.sleep(2)\n",
    "    return [i**3 for i in range(1, 11)]\n",
    "\n",
    "def print_list(func):\n",
    "    print(func())\n",
    "    \n",
    "\n",
    "function_list = [squares, cubes]\n",
    "\n",
    "thread = [threading.Thread(target=print_list, args=(func,)) for func in function_list]\n",
    "\n",
    "for t in thread:\n",
    "    print(t)\n",
    "    t.start()"
   ]
  },
  {
   "cell_type": "code",
   "execution_count": null,
   "metadata": {},
   "outputs": [],
   "source": [
    "# Ans 5\n",
    "\n",
    "\"\"\" \n",
    "Multithreaded and multicontexted applications offer the following advantages:\n",
    "    Improved performance and concurrency\n",
    "    For certain applications, performance and concurrency can be improved by using multithreading and multicontexting together. In other applications, performance can be unaffected or even degraded by using multithreading and multicontexting together. How performance is affected depends on your application.\n",
    "\n",
    "\n",
    "    Simplified coding of remote procedure calls and conversations\n",
    "    In some applications it is easier to code different remote procedure calls and conversations in separate threads than to manage them from the same thread.\n",
    "\n",
    "\n",
    "Multithreaded and multicontexted applications present the following disadvantages:\n",
    "    **Difficulty of writing code**\n",
    "    Multithreaded and multicontexted applications are not easy to write. Only experienced programmers should undertake coding for these types of applications.\n",
    "\n",
    "\n",
    "    **Difficulty of debugging**\n",
    "    It is much harder to replicate an error in a multithreaded or multicontexted application than it is to do so in a single-threaded, single-contexted application. As a result, it is more difficult, in the former case, to identify and verify root causes when errors occur.\n",
    "\n",
    "\n",
    "    **Difficulty of managing concurrency**\n",
    "    The task of managing concurrency among threads is difficult and has the potential to introduce new problems into an application.\n",
    "\n",
    "\n",
    "    **Difficulty of testing**\n",
    "    Testing a multithreaded application is more difficult than testing a single-threaded application because defects are often timing-related and more difficult to reproduce.\n",
    "\"\"\""
   ]
  },
  {
   "cell_type": "code",
   "execution_count": null,
   "metadata": {},
   "outputs": [],
   "source": [
    "# Ans 6 \n",
    "\n",
    "\"\"\" \n",
    "two basic problems commonly occur in multi-threaded programs are:\n",
    "\n",
    "DEADLOCK: Two threads hold locks on different resources, each waiting indefinitely for the other to release its lock.\n",
    "RACE CONDITON: Two (or more) threads alter the state of a shared resource concurrently, leaving it in an unpredictable state.\n",
    "\"\"\""
   ]
  }
 ],
 "metadata": {
  "kernelspec": {
   "display_name": "Python 3",
   "language": "python",
   "name": "python3"
  },
  "language_info": {
   "codemirror_mode": {
    "name": "ipython",
    "version": 3
   },
   "file_extension": ".py",
   "mimetype": "text/x-python",
   "name": "python",
   "nbconvert_exporter": "python",
   "pygments_lexer": "ipython3",
   "version": "3.10.6"
  },
  "orig_nbformat": 4,
  "vscode": {
   "interpreter": {
    "hash": "916dbcbb3f70747c44a77c7bcd40155683ae19c65e1c03b4aa3499c5328201f1"
   }
  }
 },
 "nbformat": 4,
 "nbformat_minor": 2
}
