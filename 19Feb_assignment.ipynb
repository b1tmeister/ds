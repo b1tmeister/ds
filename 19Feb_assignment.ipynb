{
 "cells": [
  {
   "cell_type": "code",
   "execution_count": null,
   "metadata": {},
   "outputs": [],
   "source": [
    "# Ans 1 \n",
    "\"\"\" \n",
    "Flask is a web framework. This means flask provides you with tools, libraries and technologies that allow you to build a web application. \n",
    "This web application can be some web pages, a blog, a wiki or go as big as a web-based calendar application or a commercial website.\n",
    "\n",
    "Advantages of Flask\n",
    "Scalable : Size is everything, and Flask’s status as a microframework means that you can use it to grow a tech project such as a web app incredibly quickly\n",
    "It has vast third-party extensions.\n",
    "It has a tiny API and can be quickly learned by a web developer.\n",
    "It is WSGI compliant.\n",
    "It supports Unicode.\n",
    "\"\"\""
   ]
  },
  {
   "cell_type": "code",
   "execution_count": null,
   "metadata": {},
   "outputs": [],
   "source": [
    "# Ans 2"
   ]
  },
  {
   "attachments": {},
   "cell_type": "markdown",
   "metadata": {},
   "source": [
    "![Alt text](Screenshot%20from%202023-02-22%2016-46-37.png)"
   ]
  },
  {
   "attachments": {},
   "cell_type": "markdown",
   "metadata": {},
   "source": [
    "![Alt text](Screenshot%20from%202023-02-22%2016-46-57.png)"
   ]
  },
  {
   "cell_type": "code",
   "execution_count": null,
   "metadata": {},
   "outputs": [],
   "source": [
    "# Ans 3\n",
    "\"\"\" \n",
    "App Routing means mapping the URLs to a specific function that will handle the logic for that URL. \n",
    "Modern web frameworks use more meaningful URLs to help users remember the URLs and make navigation simpler.\n",
    "\n",
    "In Flask to bind a function to an URL path we use the app.route decorator. \n",
    "\n",
    "Routing is the mechanism by which requests as specified by a URL and HTTP method are routed to the code that handles them\n",
    "\"\"\"\n"
   ]
  },
  {
   "cell_type": "code",
   "execution_count": null,
   "metadata": {},
   "outputs": [],
   "source": [
    "# Ans 4"
   ]
  },
  {
   "attachments": {},
   "cell_type": "markdown",
   "metadata": {},
   "source": [
    "![Alt text](Screenshot%20from%202023-02-22%2016-58-12.png)"
   ]
  },
  {
   "attachments": {},
   "cell_type": "markdown",
   "metadata": {},
   "source": [
    "![Alt text](Screenshot%20from%202023-02-22%2016-57-07.png)"
   ]
  },
  {
   "attachments": {},
   "cell_type": "markdown",
   "metadata": {},
   "source": [
    "![Alt text](Screenshot%20from%202023-02-22%2016-57-47.png)"
   ]
  },
  {
   "cell_type": "code",
   "execution_count": null,
   "metadata": {},
   "outputs": [],
   "source": [
    "# Ans 5 \n",
    "\n",
    "\"\"\" \n",
    "The url_for() function is used to build a URL to the specific function dynamically. \n",
    "The first argument is the name of the specified function, and then we can pass any number of keyword argument corresponding to the variable part of the URL.\n",
    "\"\"\""
   ]
  },
  {
   "attachments": {},
   "cell_type": "markdown",
   "metadata": {},
   "source": [
    "![Alt text](Screenshot%20from%202023-02-22%2017-08-33.png)![Alt text](Screenshot%20from%202023-02-22%2017-09-14.png)![Alt text](Screenshot%20from%202023-02-22%2017-09-28.png)"
   ]
  },
  {
   "cell_type": "markdown",
   "metadata": {},
   "source": []
  }
 ],
 "metadata": {
  "kernelspec": {
   "display_name": "Python 3",
   "language": "python",
   "name": "python3"
  },
  "language_info": {
   "codemirror_mode": {
    "name": "ipython",
    "version": 3
   },
   "file_extension": ".py",
   "mimetype": "text/x-python",
   "name": "python",
   "nbconvert_exporter": "python",
   "pygments_lexer": "ipython3",
   "version": "3.10.6"
  },
  "orig_nbformat": 4,
  "vscode": {
   "interpreter": {
    "hash": "916dbcbb3f70747c44a77c7bcd40155683ae19c65e1c03b4aa3499c5328201f1"
   }
  }
 },
 "nbformat": 4,
 "nbformat_minor": 2
}
