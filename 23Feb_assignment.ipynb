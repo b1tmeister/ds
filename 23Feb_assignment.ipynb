{
 "cells": [
  {
   "cell_type": "code",
   "execution_count": 6,
   "metadata": {},
   "outputs": [
    {
     "name": "stdout",
     "output_type": "stream",
     "text": [
      "0     4\n",
      "1     8\n",
      "2    15\n",
      "3    16\n",
      "4    23\n",
      "5    42\n",
      "dtype: int64\n"
     ]
    }
   ],
   "source": [
    "# Ans 1\n",
    "\n",
    "import pandas as pd\n",
    "pdSeries = pd.Series([4,8,15,16,23,42])\n",
    "print(pdSeries)"
   ]
  },
  {
   "cell_type": "code",
   "execution_count": 7,
   "metadata": {},
   "outputs": [
    {
     "data": {
      "text/plain": [
       "0     1\n",
       "1     2\n",
       "2     3\n",
       "3     4\n",
       "4     5\n",
       "5     6\n",
       "6     7\n",
       "7     8\n",
       "8     9\n",
       "9    10\n",
       "dtype: int64"
      ]
     },
     "execution_count": 7,
     "metadata": {},
     "output_type": "execute_result"
    }
   ],
   "source": [
    "# Ans 2 \n",
    "\n",
    "list_type_var = [1,2,3,4,5,6,7,8,9,10]\n",
    "pd.Series(list_type_var)"
   ]
  },
  {
   "cell_type": "code",
   "execution_count": 12,
   "metadata": {},
   "outputs": [
    {
     "name": "stdout",
     "output_type": "stream",
     "text": [
      "     Name  Age  Gender\n",
      "0   Alice   25  Female\n",
      "1     Bob   30    Male\n",
      "2  Claire   27  Female\n"
     ]
    }
   ],
   "source": [
    "# Ans 3 \n",
    "\n",
    "data = {\n",
    "    \"Name\": [\"Alice\", \"Bob\", \"Claire\"],\n",
    "    \"Age\": [25, 30, 27],\n",
    "    \"Gender\": [\"Female\", \"Male\", \"Female\"]\n",
    "}\n",
    "users = pd.DataFrame(data)\n",
    "print(users)"
   ]
  },
  {
   "cell_type": "code",
   "execution_count": 22,
   "metadata": {},
   "outputs": [
    {
     "name": "stdout",
     "output_type": "stream",
     "text": [
      "This is how Series Looks like\n",
      "\n",
      "Mon      22\n",
      "Tues     23\n",
      "Wed      23\n",
      "Thurs    24\n",
      "Fri      23\n",
      "Sat      22\n",
      "Sun      21\n",
      "Name: series_from_dict, dtype: int64\n",
      "\n",
      "This is how DataFrame looks like\n",
      "\n",
      "     Name  Age  Gender\n",
      "0   Alice   25  Female\n",
      "1     Bob   30    Male\n",
      "2  Claire   27  Female\n"
     ]
    }
   ],
   "source": [
    "# Ans 4\n",
    "\n",
    "\"\"\" \n",
    "A pandas DataFrame is a two-dimensional data structure that can be thought of as a spreadsheet. \n",
    "It can also be thought of as a collection of two or more series with common indices.\n",
    "\n",
    "Difference with Series\n",
    "Heterogenous – DataFrame elements can have different data types while Series are homogenous means must be of same type\n",
    "Size-mutable – Elements can be dropped or added in an existing DataFrame while series object cannot be changed\n",
    "\n",
    "A single DataFrame contains multiple series\n",
    "\"\"\"\n",
    "print(\"This is how Series Looks like\\n\")\n",
    "series_data = {'Mon': 22, 'Tues': 23, 'Wed': 23, 'Thurs': 24, 'Fri': 23, 'Sat': 22, 'Sun': 21}\n",
    "series = pd.Series(series_data, name='series_from_dict')\n",
    "print(series)\n",
    "\n",
    "print(\"\\nThis is how DataFrame looks like\\n\")\n",
    "dataframe_data = {\n",
    "    \"Name\": [\"Alice\", \"Bob\", \"Claire\"],\n",
    "    \"Age\": [25, 30, 27],\n",
    "    \"Gender\": [\"Female\", \"Male\", \"Female\"]\n",
    "}\n",
    "dataframe = pd.DataFrame(dataframe_data)\n",
    "print(dataframe)\n",
    "\n"
   ]
  },
  {
   "cell_type": "code",
   "execution_count": null,
   "metadata": {},
   "outputs": [],
   "source": [
    "# Ans 5 \n",
    "\n",
    "\"\"\" \n",
    "1. pd.read_csv() -> Used to read csv files\n",
    "eg: df = pd.read_csv(\"ds.csv\")\n",
    "\n",
    "2. pd.read_excel() -> used to read execl files\n",
    "eg: data = pd.read_csv(filename)\n",
    "\n",
    "3. pd.read_html() -> used to read tables from a html page\n",
    "eg: url_data = pd.read_html(\"https://www.basketball-reference.com/leagues/NBA_2015_totals.html\")\n",
    "\n",
    "4. df.head() -> By default, it shows the first 5 rows of the DataFrame, a value can be passed\n",
    "eg: df.head(7)\n",
    "\n",
    "5. df.columns ->  print out all the columns of the dataset\n",
    "eg: df.columns\n",
    "\n",
    "6. df.drop() -> it can drop some unnecessary columns using\n",
    "eg: df = df.drop(columns=['Unnamed: 0', 'bad_data', 'NaN'])\n",
    "\n",
    "7. df3.dtypes -> This returns a Series with the data type of each column\n",
    "eg: df.dtypes\n",
    "\n",
    "8. df.tail() -> This function returns last n rows from the object based on position\n",
    "eg: df.tail(5)\n",
    "\"\"\""
   ]
  },
  {
   "cell_type": "code",
   "execution_count": null,
   "metadata": {},
   "outputs": [],
   "source": [
    "# Ans 6\n",
    "\n",
    "\"\"\" \n",
    "All pandas data structures are value-mutable (the values they contain can be altered) but not always size-mutable. \n",
    "The length of a Series cannot be changed, but, for example, columns can be inserted into a DataFrame. \n",
    "However, the vast majority of methods produce new objects and leave the input data untouched. \n",
    "Favor immutability where sensible.\n",
    "\n",
    "Same for now deprecated Panels\n",
    "\"\"\""
   ]
  },
  {
   "cell_type": "code",
   "execution_count": 29,
   "metadata": {},
   "outputs": [
    {
     "name": "stdout",
     "output_type": "stream",
     "text": [
      "<class 'pandas.core.frame.DataFrame'>\n",
      "<class 'pandas.core.frame.DataFrame'>\n"
     ]
    }
   ],
   "source": [
    "# Ans 7\n",
    "\n",
    "#Importing Pandas library\n",
    "import pandas as pd\n",
    " \n",
    "# Two Ways to do it\n",
    "\n",
    "users = ['Shanu', 'Surya', 'Neha', 'Shivani']\n",
    "age = [24, 24, 20, 24]\n",
    "#Creating two Series by passing lists\n",
    "auth_series = pd.Series(users)\n",
    "article_series = pd.Series(age)\n",
    "#Creating a dictionary by passing Series objects as values\n",
    "frame = { 'Users': auth_series, 'Age': article_series }\n",
    "#Creating DataFrame by passing Dictionary\n",
    "result = pd.DataFrame(frame)\n",
    "print(type(result))\n",
    "\n",
    "# We can pass the dict created using series like in the above example\n",
    "\n",
    "\n",
    "\n",
    "users = pd.Series([\"Shanu\",\"Surya\",\"Neha\", \"Shivani\"], name='Users')\n",
    "age = pd.Series([24,24,20, 24], name='Age')\n",
    "\n",
    "df=pd.concat([users,age],axis=1)\n",
    "print(type(df))\n",
    "\n",
    "# here we are using a pandas built funtion concat() to create a DataFrame using multiple Series  "
   ]
  },
  {
   "cell_type": "code",
   "execution_count": null,
   "metadata": {},
   "outputs": [],
   "source": []
  }
 ],
 "metadata": {
  "kernelspec": {
   "display_name": "Python 3",
   "language": "python",
   "name": "python3"
  },
  "language_info": {
   "codemirror_mode": {
    "name": "ipython",
    "version": 3
   },
   "file_extension": ".py",
   "mimetype": "text/x-python",
   "name": "python",
   "nbconvert_exporter": "python",
   "pygments_lexer": "ipython3",
   "version": "3.10.6"
  },
  "orig_nbformat": 4,
  "vscode": {
   "interpreter": {
    "hash": "916dbcbb3f70747c44a77c7bcd40155683ae19c65e1c03b4aa3499c5328201f1"
   }
  }
 },
 "nbformat": 4,
 "nbformat_minor": 2
}
