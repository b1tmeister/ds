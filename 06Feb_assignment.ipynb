{
 "cells": [
  {
   "cell_type": "code",
   "execution_count": 30,
   "metadata": {},
   "outputs": [
    {
     "name": "stdout",
     "output_type": "stream",
     "text": [
      "4134711838987085478833841242112000\n"
     ]
    }
   ],
   "source": [
    "from functools import reduce\n",
    "list1 = [1,2,3,4, [44,55,66, True], False, (34,56,78,89,34), {1,2,3,3,2,1}, {1:34, \"key2\": [55, 67, 78, 89], 4: (45,\n",
    "22, 61, 34)}, [56, 'data science'], 'Machine Learning']\n",
    "\n",
    "def product(a_list):\n",
    "    flat_list = []\n",
    "    for i in a_list:\n",
    "        if type(i) == int:\n",
    "            flat_list.append(i)\n",
    "        elif isinstance(i, list) or isinstance(i, tuple) or isinstance(i, set):\n",
    "            for l in i:\n",
    "                if type(l) == int:\n",
    "                    flat_list.append(l)\n",
    "        elif isinstance(i, dict):\n",
    "            for key, val in i.items():\n",
    "                if type(key) == int:\n",
    "                    flat_list.append(key)\n",
    "\n",
    "                if type(val) == int:\n",
    "                    flat_list.append(val)\n",
    "                elif isinstance(val, list) or isinstance(val, tuple):\n",
    "                    for v in val:\n",
    "                        if type(v) == int:\n",
    "                            flat_list.append(v)\n",
    "\n",
    "    \n",
    "    total = reduce(lambda x,y : x*y, flat_list) \n",
    "    return total\n",
    "\n",
    "print(product(list1))"
   ]
  },
  {
   "cell_type": "code",
   "execution_count": 117,
   "metadata": {},
   "outputs": [
    {
     "name": "stdout",
     "output_type": "stream",
     "text": [
      "r$dzmg$gl$yvxlnv$z$wzgz$hxrvmgrhg$\n"
     ]
    }
   ],
   "source": [
    "alpha_list = list(map(chr, range(97, 123)))\n",
    "# ['a', 'b', 'c', 'd', 'e', 'f', 'g', 'h', 'i', 'j', 'k', 'l', 'm', 'n', 'o', 'p', 'q', 'r', 's', 't', 'u', 'v', 'w', 'x', 'y', 'z']\n",
    "a_string = \"I want to become a Data Scientist.\"\n",
    "\n",
    "def encrypter(a_message):\n",
    "    encrypted_message = \"\"\n",
    "    for i in a_message.lower():\n",
    "        if i in alpha_list:\n",
    "            enc_char = alpha_list[(len(alpha_list) - 1) - alpha_list.index(i)]\n",
    "            encrypted_message = encrypted_message + enc_char\n",
    "        else:\n",
    "            encrypted_message = encrypted_message + \"$\"\n",
    "    return encrypted_message\n",
    "\n",
    "print(encrypter(a_string))"
   ]
  },
  {
   "cell_type": "code",
   "execution_count": null,
   "metadata": {},
   "outputs": [],
   "source": []
  }
 ],
 "metadata": {
  "kernelspec": {
   "display_name": "Python 3",
   "language": "python",
   "name": "python3"
  },
  "language_info": {
   "codemirror_mode": {
    "name": "ipython",
    "version": 3
   },
   "file_extension": ".py",
   "mimetype": "text/x-python",
   "name": "python",
   "nbconvert_exporter": "python",
   "pygments_lexer": "ipython3",
   "version": "3.10.6"
  },
  "orig_nbformat": 4,
  "vscode": {
   "interpreter": {
    "hash": "916dbcbb3f70747c44a77c7bcd40155683ae19c65e1c03b4aa3499c5328201f1"
   }
  }
 },
 "nbformat": 4,
 "nbformat_minor": 2
}
