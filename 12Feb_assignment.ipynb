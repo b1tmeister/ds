{
 "cells": [
  {
   "cell_type": "code",
   "execution_count": null,
   "metadata": {},
   "outputs": [],
   "source": [
    "# Ans 1 \n",
    "\"\"\" \n",
    "An exception is an event which occurs during the execution of a program that disrupts the normal flow of the program's instructions \n",
    "In general when a python program encounters a situation that it cannot cope with, it raises an exception\n",
    "An exception is a python object that represents an error\n",
    "\n",
    "while the syntax error is a kind of error occurs when ther is a mistake in the code eg: typo or spelling mistake or semi colon missing\n",
    "Syntax errors occur when the parser detects an incorrect statement \n",
    "example:\n",
    "\n",
    "> print( 0 / 0 ))\n",
    "  File \"<stdin>\", line 1\n",
    "    print( 0 / 0 ))\n",
    "                  ^\n",
    "SyntaxError: invalid syntax\n",
    "\n",
    "\"\"\"\n"
   ]
  },
  {
   "cell_type": "code",
   "execution_count": null,
   "metadata": {},
   "outputs": [],
   "source": [
    "# Ans 2 \n",
    "\"\"\"\n",
    "When an exception is not handled properly the program crashed that that point and code after that does not executed\n",
    "if the handle the exception then program will throw an error and will continue to run after that\n",
    "example:\n",
    "\"\"\"\n",
    "import logging\n",
    "logging.basicConfig(filename = \"test.log\" ,level = logging.DEBUG)\n",
    "try:\n",
    "    10/0\n",
    "except ZeroDivisionError as z:\n",
    "    logging.info(z)\n",
    "\n",
    "a = 4+5\n",
    "print(a)\n",
    "\n",
    "# in the above example the print(a) with execute because we already handled the Division error above"
   ]
  },
  {
   "cell_type": "code",
   "execution_count": null,
   "metadata": {},
   "outputs": [],
   "source": [
    "# Ans 3 \n",
    "\"\"\" \n",
    "The try and except block in Python is used to catch and handle exceptions \n",
    "Python executes code following the try statement as a “normal” part of the program\n",
    "The code that follows the except statement is the program’s response to any exceptions in the preceding try clause\n",
    "example\n",
    "\"\"\"\n",
    "import logging\n",
    "logging.basicConfig(filename = \"test.log\" ,level = logging.DEBUG)\n",
    "try:\n",
    "    10/0\n",
    "except ZeroDivisionError as z:\n",
    "    logging.info(z)"
   ]
  },
  {
   "cell_type": "code",
   "execution_count": null,
   "metadata": {},
   "outputs": [],
   "source": [
    "# Ans 4 \n",
    "# Try and Else\n",
    "# else can be used with try and except but will only executed if the try block runs without error\n",
    "# example\n",
    "import logging\n",
    "logging.basicConfig(filename = \"test.log\" ,level = logging.DEBUG)\n",
    "try :\n",
    "    f= open(\"test.txt\" , 'w')\n",
    "    f.write(\" write into my file \" )\n",
    "except Exception  as e : \n",
    "    logging.info(z)\n",
    "else : \n",
    "    f.close()\n",
    "    print(\" this will be executed once your try will execute without error\" )\n",
    "\n",
    "# Finally block will always runs wether the code exception occurs or not\n",
    "# example \n",
    "import logging\n",
    "logging.basicConfig(filename=\"test.log\", level=logging.DEBUG)\n",
    "try :\n",
    "    f = open(\"test3.txt\" , 'r')\n",
    "    f.write(\"write something\" )\n",
    "except FileNotFoundError as e:\n",
    "    logging.info(e)\n",
    "finally : \n",
    "    print(\"finally will execute itself in any situation\")\n",
    "\n",
    "# The raise keyword is used to raise an exception.\n",
    "# we can define what kind of error to raise, and the text to print to the user\n",
    "\n",
    "x = \"hello\"\n",
    "if not type(x) is int:\n",
    "  raise TypeError(\"Only integers are allowed\")\n"
   ]
  },
  {
   "cell_type": "code",
   "execution_count": null,
   "metadata": {},
   "outputs": [],
   "source": [
    "# Ans 5\n",
    "# we can define custom exceptions by creating a new class that is derived from the built-in Exception class\n",
    "# when we want to use our own exception messages and exceptions\n",
    "# define Python user-defined exceptions\n",
    "class InvalidAgeException(Exception):\n",
    "    \"Raised when the input value is less than 18\"\n",
    "    pass\n",
    "\n",
    "\n",
    "number = 18\n",
    "\n",
    "try:\n",
    "    input_num = int(input(\"Enter a number: \"))\n",
    "    if input_num < number:\n",
    "        raise InvalidAgeException\n",
    "    else:\n",
    "        print(\"Eligible to Vote\")\n",
    "        \n",
    "except InvalidAgeException:\n",
    "    print(\"Exception occurred: Invalid Age\")\n"
   ]
  },
  {
   "cell_type": "code",
   "execution_count": null,
   "metadata": {},
   "outputs": [],
   "source": [
    "# Ans 6\n",
    "class validateage(Exception):\n",
    "    def __init__(self, msg): \n",
    "        self.msg = msg\n",
    "def validaetage(age): \n",
    "    if age < 0:\n",
    "        raise validateage(\"entered age is negative\")\n",
    "    elif age > 200: \n",
    "        raise validateage(\"enterd age is very very high\")\n",
    "    else:\n",
    "        print(\"age is valid\")\n",
    "try :\n",
    "    age = int(input(\"enter your age\"))\n",
    "    validaetage(age)\n",
    "except validateage as e:\n",
    "    print(e)"
   ]
  }
 ],
 "metadata": {
  "kernelspec": {
   "display_name": "Python 3",
   "language": "python",
   "name": "python3"
  },
  "language_info": {
   "codemirror_mode": {
    "name": "ipython",
    "version": 3
   },
   "file_extension": ".py",
   "mimetype": "text/x-python",
   "name": "python",
   "nbconvert_exporter": "python",
   "pygments_lexer": "ipython3",
   "version": "3.10.6"
  },
  "orig_nbformat": 4,
  "vscode": {
   "interpreter": {
    "hash": "916dbcbb3f70747c44a77c7bcd40155683ae19c65e1c03b4aa3499c5328201f1"
   }
  }
 },
 "nbformat": 4,
 "nbformat_minor": 2
}
