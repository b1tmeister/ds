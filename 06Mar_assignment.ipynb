{
 "cells": [
  {
   "cell_type": "code",
   "execution_count": null,
   "metadata": {},
   "outputs": [],
   "source": [
    "# Ans 1\n",
    "\"\"\" \n",
    "Statistics is a branch of applied mathematics that involves the collection, description, analysis, and inference of conclusions from quantitative data. The mathematical theories behind statistics rely heavily on differential and integral calculus, linear algebra, and probability theory.\n",
    "\"\"\"\n"
   ]
  },
  {
   "cell_type": "code",
   "execution_count": null,
   "metadata": {},
   "outputs": [],
   "source": [
    "# Ans 2 \n",
    "# There are two kinds of Statistics, which are descriptive Statistics and inferential Statistics.\n",
    "\n",
    "\"\"\" \n",
    "In the descriptive Statistics, the Data is described in a summarized way. The summarization is done from the sample of the population using different parameters like Mean or standard deviation. Descriptive Statistics are a way of using charts, graphs, and summary measures to organize, represent, and explain a set of Data. \n",
    "\n",
    "Data is typically arranged and displayed in tables or graphs summarizing details such as histograms, pie charts, bars or scatter plots.\n",
    "\n",
    "Descriptive Statistics are just descriptive and thus do not require normalization beyond the Data collected.\n",
    "\"\"\"\n",
    "\n",
    "\n",
    "\"\"\" \n",
    "In the Inferential Statistics, we try to interpret the Meaning of descriptive Statistics. After the Data has been collected, analyzed, and summarised we use Inferential Statistics to describe the Meaning of the collected Data. \n",
    "\n",
    "Inferential Statistics use the probability principle to assess whether trends contained in the research sample can be generalized to the larger population from which the sample originally comes.\n",
    "\n",
    "Inferential Statistics are intended to test hypotheses and investigate relationships between variables and can be used to make population predictions.Inferential Statistics are used to draw conclusions and inferences, i.e., to make valid generalizations from samples.\n",
    "\"\"\"\n"
   ]
  },
  {
   "cell_type": "code",
   "execution_count": null,
   "metadata": {},
   "outputs": [],
   "source": [
    "# Ans 3 \n",
    "\"\"\"\n",
    "1.Nominal Data: Nominal data is a type of data that is used to name or label variables without any quantitative value. It is also known as categorical data. Examples of nominal data include gender, religion, nationality, and color.\n",
    "\n",
    "2.Ordinal Data: Ordinal data is a type of data that has categories that can be ranked or ordered. It indicates a relative position of variables, but does not quantify the difference between them. Examples of ordinal data include educational level, income brackets, and customer satisfaction ratings\n",
    "\n",
    "3.Continuous Data: Continuous data is a type of data that can take on any value within a certain range, such as height or weight. It is measured on a continuous scale.\n",
    "\n",
    "4.Discrete Data: Discrete data is a type of data that can only take on certain values within a range, such as the number of children in a family or the number of cars in a parking lot.\n",
    "\n",
    "5.Qualitative Data: Qualitative data is a type of data that is based on observations and is not numerical in nature. It includes information about the quality of something, such as the appearance, taste, or smell.\n",
    "\n",
    "6.Quantitative Data: Quantitative data is a type of data that is numerical in nature and can be measured or counted. It includes information about quantities, such as the length, weight, or age of something.\n",
    "\n",
    "\n",
    "\"\"\""
   ]
  },
  {
   "cell_type": "code",
   "execution_count": null,
   "metadata": {},
   "outputs": [],
   "source": [
    "# Ans 4 \n",
    "\n",
    "\"\"\"\n",
    "Grading in exam: This is an example of qualitative data since the data is in the form of labels and does not have a numerical value. Specifically, this is an example of ordinal data since the labels can be ranked or ordered.\n",
    "\"\"\"\n",
    "\n",
    "\"\"\"\n",
    "Colour of mangoes: This is an example of qualitative data since the data is in the form of labels and does not have a numerical value. Specifically, this is an example of nominal data since the labels cannot be ranked or ordered.\n",
    "\"\"\"\n",
    "\n",
    "\"\"\"\n",
    "Height data of a class: This is an example of quantitative data since the data is numerical in nature and can be measured. Specifically, this is an example of continuous data since the height can take on any value within a certain range.\"\"\"\n",
    "\n",
    "\"\"\"\n",
    "Number of mangoes exported by a farm: This is an example of quantitative data since the data is numerical in nature and can be measured. Specifically, this is an example of discrete data since the number of mangoes can only take on certain values.\n",
    "\"\"\""
   ]
  },
  {
   "cell_type": "code",
   "execution_count": null,
   "metadata": {},
   "outputs": [],
   "source": [
    "# Ans 5\n",
    "\n",
    "\"\"\"\n",
    "The concept of levels of measurement, also known as scales of measurement or types of data, refers to the different ways in which data can be classified or categorized based on the properties of the variables being measured\n",
    "\"\"\"\n",
    "\n",
    "#  1. Nominal Scale Data \n",
    "\"\"\" \n",
    "The nominal scale is the lowest level of measurement and involves categorizing data into distinct, non-overlapping categories or labels. Nominal variables do not have any inherent order or rank. Examples of nominal variables include gender, religion, and color.\n",
    "\"\"\"\n",
    "\n",
    "#  2. Ordinal Scale Data\n",
    "\"\"\" \n",
    "The ordinal scale involves categorizing data into distinct categories or labels, but with the added property of being able to order or rank the categories. Ordinal variables have an inherent order or rank, but the intervals between categories are not necessarily equal. Examples of ordinal variables include academic grades and customer satisfaction ratings.\n",
    "\"\"\"\n",
    "\n",
    "#  3. Interval Scale Data\n",
    "\"\"\" \n",
    "The interval scale involves measuring data on a numerical scale where the intervals between values are equal. However, the scale does not have a true zero point, meaning that ratios between values cannot be calculated. Examples of interval variables include temperature measured in Celsius or Fahrenheit, and dates measured in years or months.\n",
    "\"\"\"\n",
    "\n",
    "#  4. Ratio Scale Data\n",
    "\"\"\" \n",
    "The ratio scale is the highest level of measurement and involves measuring data on a numerical scale where the intervals between values are equal and the scale has a true zero point. This means that ratios between values can be calculated. Examples of ratio variables include weight, height, age, and income.\n",
    "\"\"\""
   ]
  },
  {
   "cell_type": "code",
   "execution_count": null,
   "metadata": {},
   "outputs": [],
   "source": [
    "# Ans 6\n",
    "\n",
    "\"\"\" \n",
    "It is important to understand the level of measurement when analyzing data because it determines the types of statistical analyses that can be used and the interpretations that can be made. Different levels of measurement require different statistical techniques and calculations, and using an inappropriate statistical analysis can lead to erroneous conclusions.\n",
    "\n",
    "For example, suppose we want to compare the average income of two groups of people, one living in the city and the other in the suburbs. If we measure income on an ordinal scale such as low, medium, and high income, we can only use non-parametric tests, such as the Mann-Whitney U-test, which does not assume normality or equal variances. However, if we measure income on a ratio scale such as actual dollar amounts, we can use parametric tests, such as a t-test or ANOVA, which assume normality and equal variances. If we use a t-test on ordinal data, we may obtain misleading results because the data violate the assumption of normality. Therefore, understanding the level of measurement is essential for selecting the appropriate statistical analyses and ensuring accurate interpretations.\n",
    "\"\"\""
   ]
  },
  {
   "cell_type": "code",
   "execution_count": null,
   "metadata": {},
   "outputs": [],
   "source": [
    "# Ans 7 \n",
    "\n",
    "\"\"\" \n",
    "Nominal data refers to a categorical data type where data is classified into distinct, non-overlapping categories or labels, but the categories cannot be ranked or ordered. Examples of nominal data include gender, race, religion, and color. Nominal data does not have any inherent order or rank, and the categories are often represented by numbers or codes.\n",
    "\n",
    "Ordinal data, on the other hand, also involves categorizing data into distinct categories or labels, but with the added property of being able to order or rank the categories. Examples of ordinal data include academic grades (A, B, C, D, F), socioeconomic status (low, middle, high), and customer satisfaction ratings (very satisfied, satisfied, neutral, dissatisfied, very dissatisfied). Ordinal data has an inherent order or rank, but the intervals between categories are not necessarily equal.\n",
    "\"\"\""
   ]
  },
  {
   "cell_type": "code",
   "execution_count": null,
   "metadata": {},
   "outputs": [],
   "source": [
    "# Ans 8 \n",
    "\n",
    "\"\"\" \n",
    "A box plot, also known as a box-and-whisker plot, is a type of plot that can be used to display data in terms of range. The box plot displays the five-number summary of the data, which includes the minimum value, the first quartile (Q1), the median, the third quartile (Q3), and the maximum value. \n",
    "\"\"\""
   ]
  },
  {
   "cell_type": "code",
   "execution_count": null,
   "metadata": {},
   "outputs": [],
   "source": [
    "# Ans 9 \n",
    "\n",
    "\"\"\" \n",
    "Descriptive statistics refers to the use of statistical methods and techniques to summarize and describe the main features and characteristics of a dataset. Descriptive statistics are used to analyze and interpret data that have already been collected, and are often used to provide insights into the central tendencies, variability, and distribution of the data. Some common examples of descriptive statistics include measures such as the mean, median, mode, range, standard deviation, and variance. For example, if we collect data on the heights of a group of people, we can use descriptive statistics to calculate the mean height, the range of heights, and the standard deviation of heights in the group.\n",
    "\n",
    "Inferential statistics, on the other hand, involves the use of statistical methods and techniques to draw conclusions or make predictions about a larger population based on a smaller sample of data. Inferential statistics are used to analyze and interpret data in order to test hypotheses, make predictions, and generalize findings to larger populations. Some common examples of inferential statistics include hypothesis testing, confidence intervals, and regression analysis. For example, if we want to determine whether there is a significant difference in the mean height between two different populations, such as men and women, we can use inferential statistics to test whether the difference is statistically significant.\n",
    "\"\"\""
   ]
  },
  {
   "cell_type": "code",
   "execution_count": null,
   "metadata": {},
   "outputs": [],
   "source": [
    "# Ans 10 \n",
    "\n",
    "# central tendency\n",
    "\"\"\"\n",
    "Measures of central tendency are statistics that provide a single value that represents the center or middle of a dataset \n",
    "\n",
    "Mean: The mean is the arithmetic average of a dataset and is calculated by adding up all the values in the dataset and dividing by the total number of values\n",
    "\n",
    "\n",
    "Median: The median is the middle value in a dataset, with 50% of the data above and 50% below\n",
    "\n",
    "\n",
    "Mode: The mode is the value that occurs most frequently in a dataset\n",
    "\n",
    "\"\"\"  \n",
    "\n",
    "# variability\n",
    "\"\"\" \n",
    "Measures of variability are statistics that provide information about the spread or dispersion of a dataset\n",
    "\n",
    "\n",
    "Range: The range is the difference between the maximum and minimum values in a dataset\n",
    "\n",
    "\n",
    "Standard deviation: The standard deviation is a measure of how much the data deviates from the mean\n",
    "\"\"\""
   ]
  }
 ],
 "metadata": {
  "language_info": {
   "name": "python"
  },
  "orig_nbformat": 4
 },
 "nbformat": 4,
 "nbformat_minor": 2
}
