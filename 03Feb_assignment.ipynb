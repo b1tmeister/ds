{
 "cells": [
  {
   "cell_type": "code",
   "execution_count": 1,
   "metadata": {},
   "outputs": [
    {
     "name": "stdout",
     "output_type": "stream",
     "text": [
      "[1, 3, 5, 7, 9, 11, 13, 15, 17, 19, 21, 23, 25]\n"
     ]
    }
   ],
   "source": [
    "# Ans 1 \n",
    "# \"def\" keyword is used to define functions in python\n",
    "def odd_numbers():\n",
    "    list1 = []\n",
    "    for i in range(1,26):\n",
    "        if i % 2 != 0:\n",
    "            list1.append(i)\n",
    "    return list1\n",
    "\n",
    "print(odd_numbers())"
   ]
  },
  {
   "cell_type": "code",
   "execution_count": 3,
   "metadata": {},
   "outputs": [
    {
     "name": "stdout",
     "output_type": "stream",
     "text": [
      "(5, 5, 6, 9)\n",
      "{'name': 'Shanu', 'age': 10}\n"
     ]
    }
   ],
   "source": [
    "# Ans 2 \n",
    "# *arsg is used when number of argument are not knows \n",
    "# while **kwargs are used when number of keyword arguments arr not known\n",
    "\n",
    "def args_func(*args):\n",
    "    return args\n",
    "print(args_func(5,5,6,9)) \n",
    "\n",
    "def kwargs_func(**kwargs):\n",
    "    return kwargs\n",
    "\n",
    "print(kwargs_func(name =\"Shanu\", age = 10)) "
   ]
  },
  {
   "cell_type": "code",
   "execution_count": 5,
   "metadata": {},
   "outputs": [
    {
     "name": "stdout",
     "output_type": "stream",
     "text": [
      "2\n",
      "4\n",
      "6\n",
      "8\n",
      "10\n"
     ]
    }
   ],
   "source": [
    "# Ans 3 \n",
    "# it is an object that can be iterated upon, with you can traverse through all the values.\n",
    "# iter() is used to initialise while next() is used for ieration \n",
    "\n",
    "\n",
    "l = [2,4,6,8,10, 12, 14, 16, 18, 20]\n",
    "l_iter = iter(l) \n",
    "print(next(l_iter)) \n",
    "print(next(l_iter)) \n",
    "print(next(l_iter)) \n",
    "print(next(l_iter)) \n",
    "print(next(l_iter)) "
   ]
  },
  {
   "cell_type": "code",
   "execution_count": null,
   "metadata": {},
   "outputs": [],
   "source": [
    "# Ans 4\n",
    "# generator functions in python allow you to declare a function that behaves likes an iterator\n",
    "# yield keyword is used to create a generator function.\n",
    "def febo(n):\n",
    "    a, b = 0, 1\n",
    "    for i in range(n):\n",
    "        yield a \n",
    "        a , b  = b , a+b\n",
    "\n",
    "for i in febo(10):\n",
    "    print(i)"
   ]
  },
  {
   "cell_type": "code",
   "execution_count": null,
   "metadata": {},
   "outputs": [],
   "source": [
    "# Ans 5\n",
    "def prime_numbers():\n",
    "    for i in range(1000):\n",
    "        if i > 1:\n",
    "            for j in range(2, i):\n",
    "                if i % j == 0:\n",
    "                    break\n",
    "            else:\n",
    "                yield i\n",
    "\n",
    "l_itr = iter(prime_numbers())\n",
    "for i in range(20):\n",
    "    item = next(prime_numbers())\n",
    "    if item == \"end\":\n",
    "        break\n",
    "    print(item)"
   ]
  },
  {
   "cell_type": "code",
   "execution_count": null,
   "metadata": {},
   "outputs": [],
   "source": [
    "# Ans 6\n",
    "i = 0\n",
    "a, b = 0, 1\n",
    "while i <= 9:\n",
    "    print(a)\n",
    "    c= a + b\n",
    "    a = b\n",
    "    b = c\n",
    "    i += 1\n"
   ]
  },
  {
   "cell_type": "code",
   "execution_count": null,
   "metadata": {},
   "outputs": [],
   "source": [
    "# Ans 7 \n",
    "[i for i in 'pwskills']"
   ]
  },
  {
   "cell_type": "code",
   "execution_count": 48,
   "metadata": {},
   "outputs": [
    {
     "name": "stdout",
     "output_type": "stream",
     "text": [
      "3 3\n"
     ]
    },
    {
     "data": {
      "text/plain": [
       "'Number is a palindrome'"
      ]
     },
     "execution_count": 48,
     "metadata": {},
     "output_type": "execute_result"
    }
   ],
   "source": [
    "# Ans 8\n",
    "def check_palindrome(n):\n",
    "    if n < 10:\n",
    "        return \"Number is a palindrome\"\n",
    "    num = str(n)\n",
    "    for i in range(0, int(len(num)/2)):\n",
    "        # print(num[i], num[len(num) -i-1])\n",
    "        if num[i] == num[len(num) -i-1]:\n",
    "            return \"Number is a palindrome\"\n",
    "        return \"Number is not a palindrome\"\n",
    "        \n",
    "\n",
    "check_palindrome(343)"
   ]
  },
  {
   "cell_type": "code",
   "execution_count": null,
   "metadata": {},
   "outputs": [],
   "source": [
    "# Ans 9 \n",
    "# [i for i in range(100) if i % 2 != 0]\n",
    "numbers_list = [i for i in range(101)]\n",
    "[num for num in numbers_list if num % 2 != 0]"
   ]
  },
  {
   "cell_type": "code",
   "execution_count": null,
   "metadata": {},
   "outputs": [],
   "source": []
  }
 ],
 "metadata": {
  "kernelspec": {
   "display_name": "Python 3",
   "language": "python",
   "name": "python3"
  },
  "language_info": {
   "codemirror_mode": {
    "name": "ipython",
    "version": 3
   },
   "file_extension": ".py",
   "mimetype": "text/x-python",
   "name": "python",
   "nbconvert_exporter": "python",
   "pygments_lexer": "ipython3",
   "version": "3.10.6"
  },
  "orig_nbformat": 4,
  "vscode": {
   "interpreter": {
    "hash": "916dbcbb3f70747c44a77c7bcd40155683ae19c65e1c03b4aa3499c5328201f1"
   }
  }
 },
 "nbformat": 4,
 "nbformat_minor": 2
}
