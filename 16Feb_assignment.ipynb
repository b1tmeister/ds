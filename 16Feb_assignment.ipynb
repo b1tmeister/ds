{
 "cells": [
  {
   "cell_type": "code",
   "execution_count": null,
   "metadata": {},
   "outputs": [],
   "source": [
    "# Ans 1 \n",
    "\"\"\" \n",
    "database is an organized collection of structured information, or data, typically stored electronically in a computer system. \n",
    "database is usually controlled by a database management system also knows as dbms. \n",
    "together the data and the dbms, along with the applications that are associated with them, are referred to as a database\n",
    "\n",
    "Differences b/w SQL and NoSQL\n",
    "\n",
    "SQL\n",
    "1. sql databases have fixed or static or predefined schema\n",
    "2. these databases are not suited for hierarchical data storage.\t\n",
    "3. databases are best suited for complex queries\t\n",
    "5. vertically scalable\t\n",
    "\n",
    "NoSQL\n",
    "1. have dynamic schema\n",
    "2. NoSQl databases are best suited for hierarchical data storage.\n",
    "3. these databases are not so good for complex queries\n",
    "4. they are horizontally scalable\n",
    "\n",
    "\"\"\""
   ]
  },
  {
   "cell_type": "code",
   "execution_count": null,
   "metadata": {},
   "outputs": [],
   "source": [
    "# Ans 2 \n",
    "\n",
    "\"\"\" \n",
    "Stands for Data Definition Language(DDL) is a subset of SQL and a part of DBMS(Database Management System) \n",
    "DDL consist of commands to commands like CREATE, ALTER, TRUNCATE and DROP. \n",
    "These commands are used to create or modify the tables in SQL\n",
    "\n",
    "**CREATE Command**\n",
    "This is used to create a new table in SQL. The user has to give information like table name, column names, and their datatypes.\n",
    "example:    \n",
    "    CREATE TABLE table_name\n",
    "    (\n",
    "    column_1 datatype,\n",
    "    column_2 datatype,\n",
    "    column_3 datatype,\n",
    "    ....\n",
    "    );\n",
    "\n",
    "**ALTER Command**\n",
    "This command is used to add, delete or change columns in the existing table. The user needs to know the existing table name and can do add, delete or modify tasks easily.\n",
    "example:\n",
    "    ALTER TABLE table_name\n",
    "    ADD column_name datatype;\n",
    "\n",
    "**TRUNCATE Command**\n",
    "This command is used to remove all rows from the table, but the structure of the table still exists\n",
    "example:\n",
    "    TRUNCATE TABLE table_name;\n",
    "\n",
    "**DROP Command**\n",
    "This command is used to remove an existing table along with its structure from the Database.\n",
    "example:\n",
    "    DROP TABLE table_name;\n",
    "\"\"\""
   ]
  },
  {
   "cell_type": "code",
   "execution_count": null,
   "metadata": {},
   "outputs": [],
   "source": [
    "# Ans 3 \n",
    "\n",
    "\"\"\" \n",
    "The SQL commands that deals with the manipulation of data present in the database belong to DML or Data Manipulation Language and this includes most of the SQL statements.\n",
    "DDL consist of commands to commands like INSERT, UPDATE and DELETE. \n",
    "\n",
    "**INSERT Command**\n",
    "The INSERT INTO statement of SQL is used to insert a new row in a table\n",
    "example:\n",
    "    INSERT INTO table_name VALUES (value1, value2, value3,…);\n",
    "\n",
    "**UPDATE Command**\n",
    "The UPDATE statement in SQL is used to update the data of an existing table in database.\n",
    "example:\n",
    "    UPDATE table_name SET column1 = value1, column2 = value2,... \n",
    "    WHERE condition;\n",
    "\n",
    "\n",
    "**DELETE Command**\n",
    "The DELETE Statement in SQL is used to delete existing records from a table.\n",
    "example:\n",
    "    DELETE FROM table_name WHERE some_condition;\n",
    "\n",
    "\"\"\"\n"
   ]
  },
  {
   "cell_type": "code",
   "execution_count": null,
   "metadata": {},
   "outputs": [],
   "source": [
    "# Ans 4 \n",
    "\"\"\" \n",
    "DQL statements are used for performing queries on the data within schema objects. The purpose of the DQL Command is to get some schema relation based on the query passed to it. \n",
    "We can define DQL as follows it is a component of SQL statement that allows getting data from the database and imposing order upon it\n",
    "DDL consist of commands to commands like SELECT\n",
    "\n",
    "\n",
    "**SELECT Command**\n",
    "The SELECT Statement in SQL is used to retrieve or fetch data from a database. We can fetch either the entire table or according to some specified rules.\n",
    "example:\n",
    "    SELECT column1,column2 FROM table_name; \n",
    "\n",
    "\"\"\""
   ]
  },
  {
   "cell_type": "code",
   "execution_count": null,
   "metadata": {},
   "outputs": [],
   "source": [
    "# Ans 5 \n",
    "\n",
    "\"\"\" \n",
    "Primary Key\n",
    "A primary key generally focuses on the uniqueness of the table. \n",
    "It is a column or a set of columns that uniquely distinguishes every row in the database. \n",
    "It means it should not have any duplicate value. Also, it doesn’t contain a NULL value. \n",
    "\n",
    "\n",
    "Foreign key\n",
    "A foreign key is generally used to build a relationship between the two tables. \n",
    "The major purpose of the foreign key is to sustain data integrity between two separate instances of an entity.\n",
    "\"\"\""
   ]
  },
  {
   "cell_type": "code",
   "execution_count": 1,
   "metadata": {},
   "outputs": [
    {
     "name": "stdout",
     "output_type": "stream",
     "text": [
      "<mysql.connector.connection_cext.CMySQLConnection object at 0x7f1524107fa0>\n"
     ]
    }
   ],
   "source": [
    "# Ans 6 \n",
    "import mysql.connector\n",
    "import logging\n",
    "logging.basicConfig(filename=\"db.log\", level=logging.DEBUG)\n",
    "try:\n",
    "    mydb = mysql.connector.connect(\n",
    "        host=\"localhost\",\n",
    "        user=\"root\",\n",
    "        passwd=\"password\",\n",
    "        # database=\"test\" if database is already exists0\n",
    "    )\n",
    "    logging.info(mydb)\n",
    "except Exception as e:\n",
    "    logging.error(e)\n",
    "# print(mydb)\n",
    "\n",
    "\n",
    "\n",
    "# The MySQLCursor of mysql-connector-python is used to execute statements to communicate with the MySQL database.\n",
    "cursor = mydb.cursor()\n",
    "\n",
    "\n",
    " \n",
    "#This method accepts a MySQL query as a parameter and executes the given query.\n",
    "cursor.execute('SELECT * FROM test.test_table')\n",
    "\n"
   ]
  },
  {
   "cell_type": "code",
   "execution_count": null,
   "metadata": {},
   "outputs": [],
   "source": [
    "# Ans 7 \n",
    "# Rrder of Execution of SQL Commands\n",
    "\"\"\"\n",
    "1. FROM/JOIN: The FROM and/or JOIN clauses are executed first to determine the data of interest.\n",
    "2. WHERE: The WHERE clause is executed to filter out records that do not meet the constraints.\n",
    "3. GROUP BY: The GROUP BY clause is executed to group the data based on the values in one or more columns.\n",
    "4. HAVING: The HAVING clause is executed to remove the created grouped records that don’t meet the constraints.\n",
    "5. SELECT: The SELECT clause is executed to derive all desired columns and expressions.\n",
    "6. ORDER BY: The ORDER BY clause is executed to sort the derived values in ascending or descending order.\n",
    "7. LIMIT/OFFSET: Finally, the LIMIT and/or OFFSET clauses are executed to keep or skip a specified number of rows.\n",
    "\"\"\""
   ]
  }
 ],
 "metadata": {
  "kernelspec": {
   "display_name": "Python 3",
   "language": "python",
   "name": "python3"
  },
  "language_info": {
   "codemirror_mode": {
    "name": "ipython",
    "version": 3
   },
   "file_extension": ".py",
   "mimetype": "text/x-python",
   "name": "python",
   "nbconvert_exporter": "python",
   "pygments_lexer": "ipython3",
   "version": "3.10.6"
  },
  "orig_nbformat": 4,
  "vscode": {
   "interpreter": {
    "hash": "916dbcbb3f70747c44a77c7bcd40155683ae19c65e1c03b4aa3499c5328201f1"
   }
  }
 },
 "nbformat": 4,
 "nbformat_minor": 2
}
